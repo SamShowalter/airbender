{
 "cells": [
  {
   "cell_type": "code",
   "execution_count": 1,
   "metadata": {},
   "outputs": [],
   "source": [
    "'''\n",
    "dictionary = something belongs to something else, is kwargs, or has certain order\n",
    "list = collection of several parallel operations\n",
    "\n",
    "blocks -> first level keys (THESE HAVE SET ORDER)\n",
    "Below this ^^^ -> The order you provide the code will matter\n",
    "    - dict = matters\n",
    "    - list = does not matter\n",
    "\n",
    "'''\n",
    "import sys\n",
    "import os\n",
    "#print(os.getcwd())\n",
    "sys.path.append(\"../\")\n",
    "from sklearn.preprocessing import *\n",
    "from sklearn.model_selection import *\n",
    "from scipy.stats import *\n",
    "import pandas as pd\n",
    "from sklearn.metrics import *\n",
    "from ml_airflow.static.preprocessing import *\n",
    "from ml_airflow.static.splitting import *\n",
    "from ml_airflow.static.feature_engineering import *\n",
    "from ml_airflow.static.eda import *\n",
    "from sklearn.linear_model import LogisticRegression\n",
    "from sklearn.naive_bayes import GaussianNB\n",
    "from sklearn.ensemble import RandomForestClassifier\n",
    "from sklearn.neighbors import KNeighborsClassifier\n",
    "from sklearn.neural_network import MLPClassifier\n",
    "from sklearn.svm import SVC\n",
    "from ml_airflow.dag.layers import DagLayer\n",
    "\n",
    "kwargs = \\\n",
    "{   \n",
    "     'modeling': { \n",
    "                    'models': DagLayer({'LOG': {LogisticRegression: None}, \n",
    "                                       'GNB': {GaussianNB: None},\n",
    "                                       'RF':{RandomForestClassifier: {'n_estimators': 10}},\n",
    "                                       'MLP': {MLPClassifier: {'activation': 'tanh'}},\n",
    "                                       'SVM': {SVC: {'kernel': 'linear'}},\n",
    "                                       'KNN': {KNeighborsClassifier: {'n_neighbors':3 }}}),              \n",
    "                 },\n",
    " \n",
    "     'data_sources': [DagLayer({'https://raw.githubusercontent.com/SamShowalter/WMP_training/01_EDA/data/IBM_Employee_Attrition.csv': {pd.read_csv:None}})],\n",
    "\n",
    "#Expects flat dataset\n",
    "    'splitting': [\n",
    "                        DagLayer({'split': {mla_train_test_split  : {'target': \"Attrition\",\n",
    "                                                                        'test_ratio': 0.2,\n",
    "                                                                         'random_state': 42}}}),\n",
    "                 ],\n",
    " \n",
    "     \n",
    "     #Expects flat dataset\n",
    "        'preprocessing': { \n",
    "                        \n",
    "                        'cleansing': [   \n",
    "                                              DagLayer({'winsorize': {mla_winsorize: {'limits' : [0.05, 0.05],\n",
    "                                                                                      'col_names': ['MonthlyRate',\n",
    "                                                                                                    'NumCompaniesWorked',\n",
    "                                                                                                   'PercentSalaryHike']}}}),\n",
    "                                              DagLayer({'median_impute': {mla_impute : {'method': \"median\"}}})\n",
    "                                     ]\n",
    "                        \n",
    "                     },\n",
    "    #Expects flat dataset\n",
    "    'feature_engineering': {\n",
    "                            'transformations': DagLayer({\n",
    "                                    ('Department', 'EducationField', 'JobRole', \"MaritalStatus\"): {pd.get_dummies: None},\n",
    "                                    'BusinessTravel': {create_ordinal_df: {'ordinal_dict':{\"Non-Travel\" :0, \n",
    "                                                                                            \"Travel_Rarely\":1, \n",
    "                                                                                            \"Travel_Frequently\": 2},\n",
    "                                                                          'tag': None}},\n",
    "                                    ('Attrition', 'Gender', 'OverTime') : {create_boolean_df: \n",
    "                                                                           {'boolean_names_and_values':\n",
    "                                                                            {\"Attrition\": [\"Yes\", \"No\"],\n",
    "                                                                            \"Gender\": [\"Male\", \"Female\"],\n",
    "                                                                            \"OverTime\": [\"Yes\", \"No\"]}, \n",
    "                                                                            'tag' : None}},\n",
    "                                    ('Age', 'DistanceFromHome', \"EnvironmentSatisfaction\",\n",
    "                                    'JobInvolvement', 'JobSatisfaction', \"MonthlyIncome\",\n",
    "                                    'NumCompaniesWorked', 'PercentSalaryHike', \"PerformanceRating\",\n",
    "                                    'RelationshipSatisfaction', 'TotalWorkingYears',\n",
    "                                    'TrainingTimesLastYear', 'WorkLifeBalance', 'YearsAtCompany',\n",
    "                                    'YearsInCurrentRole', 'YearsSinceLastPromotion',\n",
    "                                    'YearsWithCurrManager') : {normalize_values: {'tag': None}},\n",
    "                                    'MonthlyRate': {mla_linear_transformation: {'method': boxcox},\n",
    "                                                    normalize_values: {'tag': None}},\n",
    "                               })\n",
    "                            \n",
    "                           },\n",
    " \n",
    "     #Expects predictions\n",
    "     'evaluation':{'metrics' : DagLayer({'acc': {accuracy_score: None}, \n",
    "                                        'f1': {f1_score: None}, \n",
    "                                        'precision': {precision_score: None},\n",
    "                                        'conf_matrix': {confusion_matrix: None}, \n",
    "                                        'class_report': {classification_report: None},\n",
    "                                        'recall': {recall_score :None}})\n",
    "                  }\n",
    "   \n",
    "\n",
    "}"
   ]
  },
  {
   "cell_type": "code",
   "execution_count": 2,
   "metadata": {},
   "outputs": [],
   "source": [
    "import pandas as pd\n",
    "df = pd.read_csv('https://raw.githubusercontent.com/SamShowalter/WMP_training/01_EDA/data/IBM_Employee_Attrition.csv')"
   ]
  },
  {
   "cell_type": "code",
   "execution_count": 3,
   "metadata": {},
   "outputs": [
    {
     "data": {
      "text/plain": [
       "Age                         0\n",
       "Attrition                   0\n",
       "BusinessTravel              0\n",
       "DailyRate                   1\n",
       "Department                  0\n",
       "DistanceFromHome            2\n",
       "Education                   0\n",
       "EducationField              0\n",
       "EmployeeCount               0\n",
       "EmployeeNumber              1\n",
       "EnvironmentSatisfaction     0\n",
       "Gender                      0\n",
       "HourlyRate                  0\n",
       "JobInvolvement              1\n",
       "JobLevel                    0\n",
       "JobRole                     0\n",
       "JobSatisfaction             0\n",
       "MaritalStatus               0\n",
       "MonthlyIncome               2\n",
       "MonthlyRate                 0\n",
       "NumCompaniesWorked          0\n",
       "Over18                      0\n",
       "OverTime                    0\n",
       "PercentSalaryHike           0\n",
       "PerformanceRating           0\n",
       "RelationshipSatisfaction    0\n",
       "StandardHours               0\n",
       "StockOptionLevel            0\n",
       "TotalWorkingYears           0\n",
       "TrainingTimesLastYear       0\n",
       "WorkLifeBalance             0\n",
       "YearsAtCompany              0\n",
       "YearsInCurrentRole          0\n",
       "YearsSinceLastPromotion     0\n",
       "YearsWithCurrManager        0\n",
       "dtype: int64"
      ]
     },
     "execution_count": 3,
     "metadata": {},
     "output_type": "execute_result"
    }
   ],
   "source": [
    "df.isnull().sum()"
   ]
  },
  {
   "cell_type": "code",
   "execution_count": 41,
   "metadata": {},
   "outputs": [],
   "source": [
    "from sklearn.datasets import load_iris"
   ]
  },
  {
   "cell_type": "code",
   "execution_count": 42,
   "metadata": {},
   "outputs": [],
   "source": [
    "df = pd.DataFrame(load_iris().data, columns = [\"sepal_length\", \"sepal_width\", \"petal_length\", \"petal_width\"])\n",
    "df['flower_label'] = load_iris().target"
   ]
  },
  {
   "cell_type": "code",
   "execution_count": 44,
   "metadata": {},
   "outputs": [],
   "source": [
    "flower_dict = {0:'setosa', 1:'versicolor', 2:'virginica'}\n",
    "df['flower_label'] = df.flower_label.replace(flower_dict)\n",
    "#df.to_csv(\"airbender_iris_demo.csv\", index = False)"
   ]
  },
  {
   "cell_type": "code",
   "execution_count": 49,
   "metadata": {},
   "outputs": [
    {
     "data": {
      "text/plain": [
       "0         setosa\n",
       "1         setosa\n",
       "2         setosa\n",
       "3         setosa\n",
       "4         setosa\n",
       "         ...    \n",
       "145    virginica\n",
       "146    virginica\n",
       "147    virginica\n",
       "148    virginica\n",
       "149    virginica\n",
       "Name: flower_label, Length: 150, dtype: object"
      ]
     },
     "execution_count": 49,
     "metadata": {},
     "output_type": "execute_result"
    }
   ],
   "source": [
    "df.flower_label"
   ]
  },
  {
   "cell_type": "code",
   "execution_count": 46,
   "metadata": {},
   "outputs": [],
   "source": [
    "from sklearn.preprocessing import LabelEncoder\n",
    "\n",
    "def encode_labels(data, prefit = None):\n",
    "\n",
    "    le = None\n",
    "\n",
    "    if prefit:\n",
    "        \n",
    "        data = prefit['label_encoder'].transform(data)\n",
    "        return data\n",
    "\n",
    "    else:\n",
    "        le = LabelEncoder()\n",
    "        data = le.fit_transform(data)\n",
    "\n",
    "        return data, {'label_encoder': le}"
   ]
  },
  {
   "cell_type": "code",
   "execution_count": 48,
   "metadata": {},
   "outputs": [
    {
     "data": {
      "text/plain": [
       "(array([0, 0, 0, 0, 0, 0, 0, 0, 0, 0, 0, 0, 0, 0, 0, 0, 0, 0, 0, 0, 0, 0,\n",
       "        0, 0, 0, 0, 0, 0, 0, 0, 0, 0, 0, 0, 0, 0, 0, 0, 0, 0, 0, 0, 0, 0,\n",
       "        0, 0, 0, 0, 0, 0, 1, 1, 1, 1, 1, 1, 1, 1, 1, 1, 1, 1, 1, 1, 1, 1,\n",
       "        1, 1, 1, 1, 1, 1, 1, 1, 1, 1, 1, 1, 1, 1, 1, 1, 1, 1, 1, 1, 1, 1,\n",
       "        1, 1, 1, 1, 1, 1, 1, 1, 1, 1, 1, 1, 2, 2, 2, 2, 2, 2, 2, 2, 2, 2,\n",
       "        2, 2, 2, 2, 2, 2, 2, 2, 2, 2, 2, 2, 2, 2, 2, 2, 2, 2, 2, 2, 2, 2,\n",
       "        2, 2, 2, 2, 2, 2, 2, 2, 2, 2, 2, 2, 2, 2, 2, 2, 2, 2]),\n",
       " {'label_encoder': LabelEncoder()})"
      ]
     },
     "execution_count": 48,
     "metadata": {},
     "output_type": "execute_result"
    }
   ],
   "source": [
    "encode_labels(df.flower_label)"
   ]
  },
  {
   "cell_type": "code",
   "execution_count": 56,
   "metadata": {},
   "outputs": [
    {
     "ename": "AttributeError",
     "evalue": "'datetime.datetime' object has no attribute 'datetime'",
     "output_type": "error",
     "traceback": [
      "\u001b[0;31m---------------------------------------------------------------------------\u001b[0m",
      "\u001b[0;31mAttributeError\u001b[0m                            Traceback (most recent call last)",
      "\u001b[0;32m<ipython-input-56-f3446c053702>\u001b[0m in \u001b[0;36m<module>\u001b[0;34m\u001b[0m\n\u001b[1;32m      3\u001b[0m \u001b[0;31m# rr, artifacts = normalize_values(ss)\u001b[0m\u001b[0;34m\u001b[0m\u001b[0;34m\u001b[0m\u001b[0;34m\u001b[0m\u001b[0m\n\u001b[1;32m      4\u001b[0m \u001b[0;32mfrom\u001b[0m \u001b[0mdatetime\u001b[0m \u001b[0;32mimport\u001b[0m \u001b[0mdatetime\u001b[0m\u001b[0;34m\u001b[0m\u001b[0;34m\u001b[0m\u001b[0m\n\u001b[0;32m----> 5\u001b[0;31m \u001b[0mdatetime\u001b[0m\u001b[0;34m.\u001b[0m\u001b[0mtoday\u001b[0m\u001b[0;34m(\u001b[0m\u001b[0;34m)\u001b[0m\u001b[0;34m.\u001b[0m\u001b[0mdatetime\u001b[0m\u001b[0;34m(\u001b[0m\u001b[0;34m)\u001b[0m\u001b[0;34m\u001b[0m\u001b[0;34m\u001b[0m\u001b[0m\n\u001b[0m",
      "\u001b[0;31mAttributeError\u001b[0m: 'datetime.datetime' object has no attribute 'datetime'"
     ]
    }
   ],
   "source": [
    "# tt, artifacts = mla_winsorize(df.MonthlyRate)\n",
    "# ss, artifacts = mla_linear_transformation(tt, method = boxcox)\n",
    "# rr, artifacts = normalize_values(ss)\n",
    "from datetime import datetime\n",
    "datetime.t"
   ]
  },
  {
   "cell_type": "code",
   "execution_count": 26,
   "metadata": {},
   "outputs": [
    {
     "data": {
      "text/plain": [
       "Series([], dtype: float64)"
      ]
     },
     "execution_count": 26,
     "metadata": {},
     "output_type": "execute_result"
    }
   ],
   "source": [
    "df = pd.DataFrame()\n",
    "df.sum()"
   ]
  },
  {
   "cell_type": "code",
   "execution_count": 27,
   "metadata": {},
   "outputs": [
    {
     "ename": "AttributeError",
     "evalue": "module 'pandas' has no attribute 'sum'",
     "output_type": "error",
     "traceback": [
      "\u001b[0;31m---------------------------------------------------------------------------\u001b[0m",
      "\u001b[0;31mAttributeError\u001b[0m                            Traceback (most recent call last)",
      "\u001b[0;32m<ipython-input-27-0f61d3e85798>\u001b[0m in \u001b[0;36m<module>\u001b[0;34m\u001b[0m\n\u001b[0;32m----> 1\u001b[0;31m \u001b[0mpd\u001b[0m\u001b[0;34m.\u001b[0m\u001b[0msum\u001b[0m\u001b[0;34m(\u001b[0m\u001b[0mdf\u001b[0m\u001b[0;34m)\u001b[0m\u001b[0;34m\u001b[0m\u001b[0;34m\u001b[0m\u001b[0m\n\u001b[0m",
      "\u001b[0;31mAttributeError\u001b[0m: module 'pandas' has no attribute 'sum'"
     ]
    }
   ],
   "source": []
  },
  {
   "cell_type": "code",
   "execution_count": 6,
   "metadata": {},
   "outputs": [],
   "source": [
    "def mla_impute(data, method = \"median\", prefit = None):\n",
    "\n",
    "\tfill_na_vals = None\n",
    "\tif prefit:\n",
    "\t\tfill_na_vals = prefit['fill_na_vals']\n",
    "\n",
    "\telse:\n",
    "\t\tif method == 'median':\n",
    "\t\t\tfill_na_vals = data.median()\n",
    "\t\telif method == 'mean':\n",
    "\t\t\tfill_na_vals = data.mean()\n",
    "\n",
    "\tdata = data.fillna(fill_na_vals)\n",
    "\n",
    "\tif prefit:\n",
    "\t\treturn data\n",
    "\telse:\n",
    "\t\treturn data, {'fill_na_vals': fill_na_vals}\n"
   ]
  },
  {
   "cell_type": "code",
   "execution_count": 7,
   "metadata": {},
   "outputs": [
    {
     "data": {
      "text/plain": [
       "(      Age Attrition     BusinessTravel  DailyRate              Department  \\\n",
       " 0      41       Yes      Travel_Rarely     1102.0                   Sales   \n",
       " 1      49        No  Travel_Frequently      279.0  Research & Development   \n",
       " 2      37       Yes      Travel_Rarely     1373.0  Research & Development   \n",
       " 3      33        No  Travel_Frequently     1392.0  Research & Development   \n",
       " 4      27        No      Travel_Rarely      591.0  Research & Development   \n",
       " ...   ...       ...                ...        ...                     ...   \n",
       " 1465   36        No  Travel_Frequently      884.0  Research & Development   \n",
       " 1466   39        No      Travel_Rarely      613.0  Research & Development   \n",
       " 1467   27        No      Travel_Rarely      155.0  Research & Development   \n",
       " 1468   49        No  Travel_Frequently     1023.0                   Sales   \n",
       " 1469   34        No      Travel_Rarely      628.0  Research & Development   \n",
       " \n",
       "       DistanceFromHome  Education EducationField  EmployeeCount  \\\n",
       " 0                  1.0          2  Life Sciences              1   \n",
       " 1                  8.0          1  Life Sciences              1   \n",
       " 2                  2.0          2          Other              1   \n",
       " 3                  3.0          4  Life Sciences              1   \n",
       " 4                  2.0          1        Medical              1   \n",
       " ...                ...        ...            ...            ...   \n",
       " 1465              23.0          2        Medical              1   \n",
       " 1466               6.0          1        Medical              1   \n",
       " 1467               4.0          3  Life Sciences              1   \n",
       " 1468               2.0          3        Medical              1   \n",
       " 1469               8.0          3        Medical              1   \n",
       " \n",
       "       EmployeeNumber  ...  RelationshipSatisfaction StandardHours  \\\n",
       " 0                1.0  ...                         1            80   \n",
       " 1                2.0  ...                         4            80   \n",
       " 2                4.0  ...                         2            80   \n",
       " 3                5.0  ...                         3            80   \n",
       " 4                7.0  ...                         4            80   \n",
       " ...              ...  ...                       ...           ...   \n",
       " 1465          2061.0  ...                         3            80   \n",
       " 1466          2062.0  ...                         1            80   \n",
       " 1467          2064.0  ...                         2            80   \n",
       " 1468          2065.0  ...                         4            80   \n",
       " 1469          2068.0  ...                         1            80   \n",
       " \n",
       "       StockOptionLevel  TotalWorkingYears  TrainingTimesLastYear  \\\n",
       " 0                    0                  8                      0   \n",
       " 1                    1                 10                      3   \n",
       " 2                    0                  7                      3   \n",
       " 3                    0                  8                      3   \n",
       " 4                    1                  6                      3   \n",
       " ...                ...                ...                    ...   \n",
       " 1465                 1                 17                      3   \n",
       " 1466                 1                  9                      5   \n",
       " 1467                 1                  6                      0   \n",
       " 1468                 0                 17                      3   \n",
       " 1469                 0                  6                      3   \n",
       " \n",
       "      WorkLifeBalance  YearsAtCompany YearsInCurrentRole  \\\n",
       " 0                  1               6                  4   \n",
       " 1                  3              10                  7   \n",
       " 2                  3               0                  0   \n",
       " 3                  3               8                  7   \n",
       " 4                  3               2                  2   \n",
       " ...              ...             ...                ...   \n",
       " 1465               3               5                  2   \n",
       " 1466               3               7                  7   \n",
       " 1467               3               6                  2   \n",
       " 1468               2               9                  6   \n",
       " 1469               4               4                  3   \n",
       " \n",
       "       YearsSinceLastPromotion  YearsWithCurrManager  \n",
       " 0                           0                     5  \n",
       " 1                           1                     7  \n",
       " 2                           0                     0  \n",
       " 3                           3                     0  \n",
       " 4                           2                     2  \n",
       " ...                       ...                   ...  \n",
       " 1465                        0                     3  \n",
       " 1466                        1                     7  \n",
       " 1467                        0                     3  \n",
       " 1468                        0                     8  \n",
       " 1469                        1                     2  \n",
       " \n",
       " [1470 rows x 35 columns], {'fill_na_vals': Age                            36.0\n",
       "  DailyRate                     801.0\n",
       "  DistanceFromHome                7.0\n",
       "  Education                       3.0\n",
       "  EmployeeCount                   1.0\n",
       "  EmployeeNumber               1022.0\n",
       "  EnvironmentSatisfaction         3.0\n",
       "  HourlyRate                     66.0\n",
       "  JobInvolvement                  3.0\n",
       "  JobLevel                        2.0\n",
       "  JobSatisfaction                 3.0\n",
       "  MonthlyIncome                4919.0\n",
       "  MonthlyRate                 14235.5\n",
       "  NumCompaniesWorked              2.0\n",
       "  PercentSalaryHike              14.0\n",
       "  PerformanceRating               3.0\n",
       "  RelationshipSatisfaction        3.0\n",
       "  StandardHours                  80.0\n",
       "  StockOptionLevel                1.0\n",
       "  TotalWorkingYears              10.0\n",
       "  TrainingTimesLastYear           3.0\n",
       "  WorkLifeBalance                 3.0\n",
       "  YearsAtCompany                  5.0\n",
       "  YearsInCurrentRole              3.0\n",
       "  YearsSinceLastPromotion         1.0\n",
       "  YearsWithCurrManager            3.0\n",
       "  dtype: float64})"
      ]
     },
     "execution_count": 7,
     "metadata": {},
     "output_type": "execute_result"
    }
   ],
   "source": [
    "mla_impute(df)"
   ]
  },
  {
   "cell_type": "code",
   "execution_count": 8,
   "metadata": {},
   "outputs": [],
   "source": [
    "import pandas as pd\n",
    "import os\n",
    "import sys\n",
    "sys.path.append(\"../ml_airflow/static\")\n",
    "sys.path.append(\"../ml_airflow/dag\")"
   ]
  },
  {
   "cell_type": "code",
   "execution_count": 9,
   "metadata": {},
   "outputs": [],
   "source": [
    "from generator import DagGenerator\n",
    "from datetime import datetime\n",
    "\n"
   ]
  },
  {
   "cell_type": "code",
   "execution_count": 10,
   "metadata": {},
   "outputs": [],
   "source": [
    "dag_args = { \n",
    "                'dag_name': \"ML_Airflow_test_creation_full\",\n",
    "                'dag':      {\n",
    "                                'owner': 'Sam Showalter',\n",
    "                                'email': ['sshowalter@wmp.com'],\n",
    "                                'op_args':{},\n",
    "                                'op_kwargs': {},\n",
    "                                'params': {}\n",
    "                            },\n",
    "                'config' : kwargs\n",
    "}"
   ]
  },
  {
   "cell_type": "code",
   "execution_count": 11,
   "metadata": {},
   "outputs": [
    {
     "ename": "NameError",
     "evalue": "name 'op_name' is not defined",
     "output_type": "error",
     "traceback": [
      "\u001b[0;31m---------------------------------------------------------------------------\u001b[0m",
      "\u001b[0;31mNameError\u001b[0m                                 Traceback (most recent call last)",
      "\u001b[0;32m<ipython-input-11-40bcfeede5ba>\u001b[0m in \u001b[0;36m<module>\u001b[0;34m\u001b[0m\n\u001b[1;32m      1\u001b[0m \u001b[0mdg\u001b[0m \u001b[0;34m=\u001b[0m \u001b[0mDagGenerator\u001b[0m\u001b[0;34m(\u001b[0m\u001b[0mdag_args\u001b[0m\u001b[0;34m)\u001b[0m\u001b[0;34m\u001b[0m\u001b[0;34m\u001b[0m\u001b[0m\n\u001b[0;32m----> 2\u001b[0;31m \u001b[0mdg\u001b[0m\u001b[0;34m.\u001b[0m\u001b[0mgenerate_file\u001b[0m\u001b[0;34m(\u001b[0m\u001b[0;34m)\u001b[0m\u001b[0;34m\u001b[0m\u001b[0;34m\u001b[0m\u001b[0m\n\u001b[0m",
      "\u001b[0;32m~/repos/ML_Airflow/ml_airflow/dag/generator.py\u001b[0m in \u001b[0;36mgenerate_file\u001b[0;34m(self)\u001b[0m\n\u001b[1;32m    150\u001b[0m \u001b[0;34m\u001b[0m\u001b[0m\n\u001b[1;32m    151\u001b[0m                 \u001b[0;31m#Parse all layers in the dag\u001b[0m\u001b[0;34m\u001b[0m\u001b[0;34m\u001b[0m\u001b[0;34m\u001b[0m\u001b[0m\n\u001b[0;32m--> 152\u001b[0;31m                 \u001b[0mself\u001b[0m\u001b[0;34m.\u001b[0m\u001b[0mparse_layers\u001b[0m\u001b[0;34m(\u001b[0m\u001b[0;34m)\u001b[0m\u001b[0;34m\u001b[0m\u001b[0;34m\u001b[0m\u001b[0m\n\u001b[0m\u001b[1;32m    153\u001b[0m \u001b[0;34m\u001b[0m\u001b[0m\n\u001b[1;32m    154\u001b[0m                 \u001b[0;31m#Write all layer information to dag output\u001b[0m\u001b[0;34m\u001b[0m\u001b[0;34m\u001b[0m\u001b[0;34m\u001b[0m\u001b[0m\n",
      "\u001b[0;32m~/repos/ML_Airflow/ml_airflow/dag/generator.py\u001b[0m in \u001b[0;36mparse_layers\u001b[0;34m(self)\u001b[0m\n\u001b[1;32m    290\u001b[0m \t\t'''\n\u001b[1;32m    291\u001b[0m                 \u001b[0;32mfor\u001b[0m \u001b[0mlayer\u001b[0m \u001b[0;32min\u001b[0m \u001b[0mself\u001b[0m\u001b[0;34m.\u001b[0m\u001b[0mlayerbag\u001b[0m\u001b[0;34m:\u001b[0m\u001b[0;34m\u001b[0m\u001b[0;34m\u001b[0m\u001b[0m\n\u001b[0;32m--> 292\u001b[0;31m                         \u001b[0mlayer\u001b[0m\u001b[0;34m.\u001b[0m\u001b[0mparse_layer\u001b[0m\u001b[0;34m(\u001b[0m\u001b[0;34m)\u001b[0m\u001b[0;34m\u001b[0m\u001b[0;34m\u001b[0m\u001b[0m\n\u001b[0m\u001b[1;32m    293\u001b[0m \u001b[0;34m\u001b[0m\u001b[0m\n\u001b[1;32m    294\u001b[0m \u001b[0;34m\u001b[0m\u001b[0m\n",
      "\u001b[0;32m~/repos/ML_Airflow/ml_airflow/dag/layers.py\u001b[0m in \u001b[0;36mparse_layer\u001b[0;34m(self)\u001b[0m\n\u001b[1;32m    108\u001b[0m \u001b[0;34m\u001b[0m\u001b[0m\n\u001b[1;32m    109\u001b[0m                 \u001b[0;31m#Parse layer\u001b[0m\u001b[0;34m\u001b[0m\u001b[0;34m\u001b[0m\u001b[0;34m\u001b[0m\u001b[0m\n\u001b[0;32m--> 110\u001b[0;31m                 \u001b[0mself\u001b[0m\u001b[0;34m.\u001b[0m\u001b[0m__parse_layer_split\u001b[0m\u001b[0;34m(\u001b[0m\u001b[0;34m)\u001b[0m\u001b[0;34m\u001b[0m\u001b[0;34m\u001b[0m\u001b[0m\n\u001b[0m\u001b[1;32m    111\u001b[0m \u001b[0;34m\u001b[0m\u001b[0m\n\u001b[1;32m    112\u001b[0m                 \u001b[0;31m#Generate sublayer order\u001b[0m\u001b[0;34m\u001b[0m\u001b[0;34m\u001b[0m\u001b[0;34m\u001b[0m\u001b[0m\n",
      "\u001b[0;32m~/repos/ML_Airflow/ml_airflow/dag/layers.py\u001b[0m in \u001b[0;36m__parse_layer_split\u001b[0;34m(self)\u001b[0m\n\u001b[1;32m    462\u001b[0m \u001b[0;34m\u001b[0m\u001b[0m\n\u001b[1;32m    463\u001b[0m                         \u001b[0;31m#General parsing rules for specified layer\u001b[0m\u001b[0;34m\u001b[0m\u001b[0;34m\u001b[0m\u001b[0;34m\u001b[0m\u001b[0m\n\u001b[0;32m--> 464\u001b[0;31m                         \u001b[0mself\u001b[0m\u001b[0;34m.\u001b[0m\u001b[0mholistic_layer_parsing\u001b[0m\u001b[0;34m(\u001b[0m\u001b[0morder\u001b[0m \u001b[0;34m=\u001b[0m \u001b[0;34m\"pre\"\u001b[0m\u001b[0;34m)\u001b[0m\u001b[0;34m\u001b[0m\u001b[0;34m\u001b[0m\u001b[0m\n\u001b[0m\u001b[1;32m    465\u001b[0m \u001b[0;34m\u001b[0m\u001b[0m\n\u001b[1;32m    466\u001b[0m                         \u001b[0;31m#Parse layer conditionality\u001b[0m\u001b[0;34m\u001b[0m\u001b[0;34m\u001b[0m\u001b[0;34m\u001b[0m\u001b[0m\n",
      "\u001b[0;32m~/repos/ML_Airflow/ml_airflow/dag/layers.py\u001b[0m in \u001b[0;36mholistic_layer_parsing\u001b[0;34m(self, order, conditional_mapping, split)\u001b[0m\n\u001b[1;32m    133\u001b[0m                                                                         \u001b[0;34m'init'\u001b[0m\u001b[0;34m,\u001b[0m\u001b[0;34m\u001b[0m\u001b[0;34m\u001b[0m\u001b[0m\n\u001b[1;32m    134\u001b[0m                                                                         \u001b[0;34m'init'\u001b[0m\u001b[0;34m,\u001b[0m\u001b[0;34m\u001b[0m\u001b[0;34m\u001b[0m\u001b[0m\n\u001b[0;32m--> 135\u001b[0;31m \t\t\t\t\t\t\t\t\t'init')\n\u001b[0m\u001b[1;32m    136\u001b[0m                 \u001b[0mholistic\u001b[0m \u001b[0;34m=\u001b[0m \u001b[0mself\u001b[0m\u001b[0;34m.\u001b[0m\u001b[0mop_router\u001b[0m\u001b[0;34m[\u001b[0m\u001b[0mself\u001b[0m\u001b[0;34m.\u001b[0m\u001b[0mparent\u001b[0m\u001b[0;34m]\u001b[0m\u001b[0;34m.\u001b[0m\u001b[0mget\u001b[0m\u001b[0;34m(\u001b[0m\u001b[0;34m'holistic'\u001b[0m\u001b[0;34m,\u001b[0m \u001b[0;32mNone\u001b[0m\u001b[0;34m)\u001b[0m\u001b[0;34m\u001b[0m\u001b[0;34m\u001b[0m\u001b[0m\n\u001b[1;32m    137\u001b[0m                 \u001b[0;32mif\u001b[0m \u001b[0mholistic\u001b[0m \u001b[0;32mis\u001b[0m \u001b[0;32mNone\u001b[0m \u001b[0;32mor\u001b[0m \u001b[0mholistic\u001b[0m\u001b[0;34m.\u001b[0m\u001b[0mget\u001b[0m\u001b[0;34m(\u001b[0m\u001b[0morder\u001b[0m\u001b[0;34m,\u001b[0m \u001b[0;32mNone\u001b[0m\u001b[0;34m)\u001b[0m \u001b[0;32mis\u001b[0m \u001b[0;32mNone\u001b[0m\u001b[0;34m:\u001b[0m\u001b[0;34m\u001b[0m\u001b[0;34m\u001b[0m\u001b[0m\n",
      "\u001b[0;32m~/repos/ML_Airflow/ml_airflow/dag/layers.py\u001b[0m in \u001b[0;36m__prime_operator\u001b[0;34m(self, parent, family, family_upstream_task, op, params, inherits, conditional_mapping, split)\u001b[0m\n\u001b[1;32m    832\u001b[0m                 \u001b[0minfo\u001b[0m \u001b[0;34m=\u001b[0m \u001b[0mlocals\u001b[0m\u001b[0;34m(\u001b[0m\u001b[0;34m)\u001b[0m\u001b[0;34m\u001b[0m\u001b[0;34m\u001b[0m\u001b[0m\n\u001b[1;32m    833\u001b[0m                 \u001b[0minfo\u001b[0m\u001b[0;34m.\u001b[0m\u001b[0mpop\u001b[0m\u001b[0;34m(\u001b[0m\u001b[0;34m'self'\u001b[0m\u001b[0;34m)\u001b[0m\u001b[0;34m\u001b[0m\u001b[0;34m\u001b[0m\u001b[0m\n\u001b[0;32m--> 834\u001b[0;31m                 \u001b[0mself\u001b[0m\u001b[0;34m.\u001b[0m\u001b[0m__route\u001b[0m\u001b[0;34m(\u001b[0m\u001b[0;34m**\u001b[0m\u001b[0minfo\u001b[0m\u001b[0;34m)\u001b[0m\u001b[0;34m\u001b[0m\u001b[0;34m\u001b[0m\u001b[0m\n\u001b[0m\u001b[1;32m    835\u001b[0m \u001b[0;34m\u001b[0m\u001b[0m\n\u001b[1;32m    836\u001b[0m                 \u001b[0;31m#Holistic or custom operators may come in as strings\u001b[0m\u001b[0;34m\u001b[0m\u001b[0;34m\u001b[0m\u001b[0;34m\u001b[0m\u001b[0m\n",
      "\u001b[0;32m~/repos/ML_Airflow/ml_airflow/dag/layers.py\u001b[0m in \u001b[0;36m__route\u001b[0;34m(self, parent, family, family_upstream_task, op, params, inherits, conditional_mapping, split)\u001b[0m\n\u001b[1;32m    714\u001b[0m \t\t\t\t\t\t\t'args': {'func': op,\n\u001b[1;32m    715\u001b[0m \t\t\t\t\t\t\t\t\t'params': params},\n\u001b[0;32m--> 716\u001b[0;31m \t\t\t\t\t\t\t 'task_tag': [family, op_name]},\n\u001b[0m\u001b[1;32m    717\u001b[0m              \u001b[0;34m'data_sources'\u001b[0m\u001b[0;34m:\u001b[0m\u001b[0;34m\u001b[0m\u001b[0;34m\u001b[0m\u001b[0m\n\u001b[1;32m    718\u001b[0m              \t\t\t\t{'operator':read_data_operation, \n",
      "\u001b[0;31mNameError\u001b[0m: name 'op_name' is not defined"
     ]
    }
   ],
   "source": [
    "dg = DagGenerator(dag_args)\n",
    "dg.generate_file()"
   ]
  }
 ],
 "metadata": {
  "kernelspec": {
   "display_name": "Python 3",
   "language": "python",
   "name": "python3"
  },
  "language_info": {
   "codemirror_mode": {
    "name": "ipython",
    "version": 3
   },
   "file_extension": ".py",
   "mimetype": "text/x-python",
   "name": "python",
   "nbconvert_exporter": "python",
   "pygments_lexer": "ipython3",
   "version": "3.6.8"
  }
 },
 "nbformat": 4,
 "nbformat_minor": 2
}
