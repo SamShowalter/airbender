{
 "cells": [
  {
   "cell_type": "markdown",
   "metadata": {},
   "source": [
    "# Airbender Machine Learning Automation Tool Tutorial\n",
    "\n",
    "This overview will guide you through how to orchestrate your own machine learning experiments with the airflow_ml tool.\n",
    "\n",
    "Author: Sam Showalter\n",
    "\n",
    "First, let's bring in general imports"
   ]
  },
  {
   "cell_type": "markdown",
   "metadata": {},
   "source": [
    "## Notes\n",
    "\n",
    "A few quick notes on the format of the configuration\n"
   ]
  },
  {
   "cell_type": "code",
   "execution_count": 1,
   "metadata": {},
   "outputs": [
    {
     "name": "stdout",
     "output_type": "stream",
     "text": [
      "/home/sshowalter/repos/airbender/notebooks\n"
     ]
    }
   ],
   "source": [
    "import pandas as pd\n",
    "import os\n",
    "import sys\n",
    "print(os.getcwd())\n",
    "sys.path.append(\"../\")\n",
    "\n",
    "#Airflow DAG specific imports\n",
    "from airbender.dag.layers import DagLayer"
   ]
  },
  {
   "cell_type": "markdown",
   "metadata": {},
   "source": [
    "## Data Sources"
   ]
  },
  {
   "cell_type": "code",
   "execution_count": 2,
   "metadata": {},
   "outputs": [],
   "source": [
    "import pandas as pd\n",
    "\n",
    "data_sources = [DagLayer({'https://raw.githubusercontent.com/SamShowalter/WMP_training/01_EDA/data/IBM_Employee_Attrition.csv': \n",
    "               {pd.read_csv:None}})]\n"
   ]
  },
  {
   "cell_type": "markdown",
   "metadata": {},
   "source": [
    "## Preprocessing"
   ]
  },
  {
   "cell_type": "code",
   "execution_count": 3,
   "metadata": {},
   "outputs": [],
   "source": [
    "from sklearn.preprocessing import *\n",
    "from airbender.static.preprocessing import *\n",
    "\n",
    "preprocessing = { 'cleansing': [   \n",
    "                  DagLayer({'median_impute': {mla_impute : {'method': \"median\"}}})]\n",
    "                        \n",
    "                }"
   ]
  },
  {
   "cell_type": "markdown",
   "metadata": {},
   "source": [
    "## Feature Engineering"
   ]
  },
  {
   "cell_type": "code",
   "execution_count": 4,
   "metadata": {},
   "outputs": [],
   "source": [
    "from sklearn.metrics import *\n",
    "from airbender.static.splitting import *\n",
    "from airbender.static.feature_engineering import *\n",
    "from scipy.stats import *\n",
    "\n",
    "feature_engineering = {\n",
    "                            'transformations': DagLayer({\n",
    "                                    ('Department', 'EducationField', 'JobRole', \"MaritalStatus\"): {pd.get_dummies: None},\n",
    "                                    'BusinessTravel': {create_ordinal_df: {'ordinal_dict':{\"Non-Travel\" :0, \n",
    "                                                                                            \"Travel_Rarely\":1, \n",
    "                                                                                            \"Travel_Frequently\": 2}}},\n",
    "                                    ('Attrition', 'Gender', 'OverTime') : {create_boolean_df: \n",
    "                                                                           {'boolean_names_and_values':\n",
    "                                                                            {\"Attrition\": [\"Yes\", \"No\"],\n",
    "                                                                            \"Gender\": [\"Male\", \"Female\"],\n",
    "                                                                            \"OverTime\": [\"Yes\", \"No\"]}}},\n",
    "                                    ('Age', 'DistanceFromHome', \"EnvironmentSatisfaction\",\n",
    "                                    'JobInvolvement', 'JobSatisfaction', \"MonthlyIncome\", \n",
    "                                     \"PerformanceRating\",\n",
    "                                    'RelationshipSatisfaction', 'TotalWorkingYears',\n",
    "                                    'TrainingTimesLastYear', 'WorkLifeBalance', 'YearsAtCompany',\n",
    "                                    'YearsInCurrentRole', 'YearsSinceLastPromotion',\n",
    "                                    'YearsWithCurrManager') : {normalize_values: None},\n",
    "                                \n",
    "                                    ('NumCompaniesWorked', 'PercentSalaryHike'): \n",
    "                                                    {mla_winsorize: {'limits': [0.05, 0.05]},\n",
    "                                                    normalize_values: None},\n",
    "                                    'MonthlyRate': {mla_winsorize: {'limits': [0.05, 0.05]},\n",
    "                                                    mla_linear_transformation: {'method': boxcox},\n",
    "                                                    normalize_values: None},\n",
    "                               })\n",
    "                            \n",
    "                           }"
   ]
  },
  {
   "cell_type": "markdown",
   "metadata": {},
   "source": [
    "## Splitting"
   ]
  },
  {
   "cell_type": "code",
   "execution_count": 5,
   "metadata": {},
   "outputs": [],
   "source": [
    "from sklearn.model_selection import *\n",
    "\n",
    "splitting = DagLayer({'split': {mla_train_test_split  : {'target': \"Attrition\",\n",
    "                                                                        'test_ratio': 0.2,\n",
    "                                                                         'random_state': 42}}})"
   ]
  },
  {
   "cell_type": "markdown",
   "metadata": {},
   "source": [
    "## Modeling"
   ]
  },
  {
   "cell_type": "code",
   "execution_count": 6,
   "metadata": {},
   "outputs": [],
   "source": [
    "from sklearn.linear_model import LogisticRegression\n",
    "from sklearn.naive_bayes import GaussianNB\n",
    "from sklearn.ensemble import RandomForestClassifier\n",
    "from sklearn.neighbors import KNeighborsClassifier\n",
    "from sklearn.svm import SVC\n",
    "from sklearn.neural_network import MLPClassifier\n",
    "\n",
    "modeling = {'modeling': DagLayer({'LOG': {LogisticRegression: None}, \n",
    "                               'GNB': {GaussianNB: None},\n",
    "                               'RF':{RandomForestClassifier: {'n_estimators': 10}},\n",
    "                               'MLP': {MLPClassifier: {'activation': 'tanh'}},\n",
    "                               'SVM': {SVC: {'kernel': 'linear'}},\n",
    "                               'KNN': {KNeighborsClassifier: {'n_neighbors':3 }}})}"
   ]
  },
  {
   "cell_type": "markdown",
   "metadata": {},
   "source": [
    "## Evaluation\n",
    "\n",
    "This piece is not finished yet. It works, but boy it is messy and breaking some design patterns. More to come on this."
   ]
  },
  {
   "cell_type": "code",
   "execution_count": 7,
   "metadata": {},
   "outputs": [],
   "source": [
    "#Expects predictions\n",
    "evaluation = {'metrics' : DagLayer({'acc': {accuracy_score: None}, \n",
    "                                    'f1': {f1_score: None}, \n",
    "                                    'precision': {precision_score: None},\n",
    "                                    'conf_matrix': {confusion_matrix: None}, \n",
    "                                    'class_report': {classification_report: None},\n",
    "                                    'recall': {recall_score :None}})}"
   ]
  },
  {
   "cell_type": "markdown",
   "metadata": {},
   "source": [
    "## Consolidate all Configurations"
   ]
  },
  {
   "cell_type": "code",
   "execution_count": 8,
   "metadata": {},
   "outputs": [],
   "source": [
    "kwargs = \\\n",
    "{   \n",
    "    'modeling': modeling,\n",
    " \n",
    "    'data_sources': data_sources,\n",
    "\n",
    "    'splitting': splitting,\n",
    " \n",
    "    'preprocessing': preprocessing,\n",
    "    \n",
    "    'feature_engineering': feature_engineering,\n",
    " \n",
    "    'evaluation' : evaluation\n",
    "}"
   ]
  },
  {
   "cell_type": "markdown",
   "metadata": {},
   "source": [
    "# Generate as Code"
   ]
  },
  {
   "cell_type": "code",
   "execution_count": 9,
   "metadata": {},
   "outputs": [],
   "source": [
    "from airbender.dag.generator import DagGenerator\n",
    "from datetime import datetime"
   ]
  },
  {
   "cell_type": "code",
   "execution_count": 10,
   "metadata": {},
   "outputs": [],
   "source": [
    "dag_args = { \n",
    "                'dag_name': \"Airbender_test_full\",\n",
    "                'dag':      {\n",
    "                                'owner': 'Sam Showalter',\n",
    "                                'email': ['sshowalter@wmp.com'],\n",
    "                                'op_args':{},\n",
    "                                'op_kwargs': {},\n",
    "                            },\n",
    "                'config' : kwargs\n",
    "}"
   ]
  },
  {
   "cell_type": "markdown",
   "metadata": {},
   "source": [
    "## Run the DAG Generator with your arguments"
   ]
  },
  {
   "cell_type": "code",
   "execution_count": 11,
   "metadata": {},
   "outputs": [
    {
     "name": "stdout",
     "output_type": "stream",
     "text": [
      "\n",
      "Displaying Ordered Dag Layers with Tags:\n",
      "\n",
      "0 ['data_sources'] ds 0\n",
      "1 ['splitting'] s 0\n",
      "2 ['preprocessing', 'cleansing'] p_cleansing 0\n",
      "3 ['feature_engineering', 'transformations'] fe_transformations 0\n",
      "4 ['modeling', 'modeling'] m_modeling 0\n",
      "5 ['evaluation', 'metrics'] e_metrics 1\n",
      "\n",
      "Generated airflow file saved at: /home/sshowalter/airflow/dags/Airbender_test_full_Sam-Showalter_10-24-2019--16.25.55.py\n"
     ]
    }
   ],
   "source": [
    "dg = DagGenerator(dag_args)\n",
    "dg.generate_file()"
   ]
  },
  {
   "cell_type": "code",
   "execution_count": null,
   "metadata": {},
   "outputs": [],
   "source": []
  }
 ],
 "metadata": {
  "kernelspec": {
   "display_name": "Python 3",
   "language": "python",
   "name": "python3"
  },
  "language_info": {
   "codemirror_mode": {
    "name": "ipython",
    "version": 3
   },
   "file_extension": ".py",
   "mimetype": "text/x-python",
   "name": "python",
   "nbconvert_exporter": "python",
   "pygments_lexer": "ipython3",
   "version": "3.6.8"
  }
 },
 "nbformat": 4,
 "nbformat_minor": 2
}
