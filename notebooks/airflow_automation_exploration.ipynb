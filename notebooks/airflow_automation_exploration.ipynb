{
 "cells": [
  {
   "cell_type": "code",
   "execution_count": 1,
   "metadata": {},
   "outputs": [],
   "source": [
    "import inspect\n",
    "\n",
    "def is_fitted(model):\n",
    "    \"\"\"Checks if model object has any attributes ending with an underscore\"\"\"\n",
    "    return 0 < len( [k for k,v in inspect.getmembers(model) if k.endswith('_') and not k.startswith('__')] )"
   ]
  },
  {
   "cell_type": "code",
   "execution_count": 2,
   "metadata": {},
   "outputs": [
    {
     "data": {
      "text/plain": [
       "True"
      ]
     },
     "execution_count": 2,
     "metadata": {},
     "output_type": "execute_result"
    }
   ],
   "source": [
    "from sklearn.linear_model.logistic import LogisticRegression\n",
    "from sklearn.preprocessing.data import StandardScaler\n",
    "from sklearn.naive_bayes import GaussianNB\n",
    "import json\n",
    "from airflow.operators.python_operator import PythonOperator\n",
    "from collections import Counter, OrderedDict\n",
    "import pandas\n",
    "\n",
    "a = OrderedDict({})\n",
    "isinstance(a, dict)"
   ]
  },
  {
   "cell_type": "code",
   "execution_count": 3,
   "metadata": {},
   "outputs": [
    {
     "data": {
      "text/plain": [
       "'from sklearn.linear_model.logistic import LogisticRegression\\n'"
      ]
     },
     "execution_count": 3,
     "metadata": {},
     "output_type": "execute_result"
    }
   ],
   "source": [
    "def import_dynamically(obj):\n",
    "    import_statement = None\n",
    "    try:\n",
    "        import_statement = \"from {} import {}\\n\".format(\n",
    "                                                      obj.__module__,\n",
    "                                                      obj.__name__)\n",
    "    except Exception as e:\n",
    "            print(\"Dynamic import failed. Trying simpler import.\")\n",
    "            import_statement = 'import {}\\n'.format(obj.__name__)\n",
    "    \n",
    "    return import_statement\n",
    "    \n",
    "import_dynamically(GaussianNB)\n",
    "import_dynamically(LogisticRegression)"
   ]
  },
  {
   "cell_type": "code",
   "execution_count": 4,
   "metadata": {},
   "outputs": [
    {
     "data": {
      "text/plain": [
       "{'__name__': 'inspect',\n",
       " '__doc__': \"Get useful information from live Python objects.\\n\\nThis module encapsulates the interface provided by the internal special\\nattributes (co_*, im_*, tb_*, etc.) in a friendlier fashion.\\nIt also provides some help for examining source code and class layout.\\n\\nHere are some of the useful functions provided by this module:\\n\\n    ismodule(), isclass(), ismethod(), isfunction(), isgeneratorfunction(),\\n        isgenerator(), istraceback(), isframe(), iscode(), isbuiltin(),\\n        isroutine() - check object types\\n    getmembers() - get members of an object that satisfy a given condition\\n\\n    getfile(), getsourcefile(), getsource() - find an object's source code\\n    getdoc(), getcomments() - get documentation on an object\\n    getmodule() - determine the module that an object came from\\n    getclasstree() - arrange classes so as to represent their hierarchy\\n\\n    getargvalues(), getcallargs() - get info about function arguments\\n    getfullargspec() - same, with support for Python 3 features\\n    formatargspec(), formatargvalues() - format an argument spec\\n    getouterframes(), getinnerframes() - get info about frames\\n    currentframe() - get the current stack frame\\n    stack(), trace() - get info about frames on the stack or in a traceback\\n\\n    signature() - get a Signature object for the callable\\n\",\n",
       " '__package__': '',\n",
       " '__loader__': <_frozen_importlib_external.SourceFileLoader at 0x7f7e94a89e48>,\n",
       " '__spec__': ModuleSpec(name='inspect', loader=<_frozen_importlib_external.SourceFileLoader object at 0x7f7e94a89e48>, origin='/usr/lib/python3.6/inspect.py'),\n",
       " '__file__': '/usr/lib/python3.6/inspect.py',\n",
       " '__cached__': '/usr/lib/python3.6/__pycache__/inspect.cpython-36.pyc',\n",
       " '__builtins__': {'__name__': 'builtins',\n",
       "  '__doc__': \"Built-in functions, exceptions, and other objects.\\n\\nNoteworthy: None is the `nil' object; Ellipsis represents `...' in slices.\",\n",
       "  '__package__': '',\n",
       "  '__loader__': _frozen_importlib.BuiltinImporter,\n",
       "  '__spec__': ModuleSpec(name='builtins', loader=<class '_frozen_importlib.BuiltinImporter'>),\n",
       "  '__build_class__': <function __build_class__>,\n",
       "  '__import__': <function __import__>,\n",
       "  'abs': <function abs(x, /)>,\n",
       "  'all': <function all(iterable, /)>,\n",
       "  'any': <function any(iterable, /)>,\n",
       "  'ascii': <function ascii(obj, /)>,\n",
       "  'bin': <function bin(number, /)>,\n",
       "  'callable': <function callable(obj, /)>,\n",
       "  'chr': <function chr(i, /)>,\n",
       "  'compile': <function compile(source, filename, mode, flags=0, dont_inherit=False, optimize=-1)>,\n",
       "  'delattr': <function delattr(obj, name, /)>,\n",
       "  'dir': <function dir>,\n",
       "  'divmod': <function divmod(x, y, /)>,\n",
       "  'eval': <function eval(source, globals=None, locals=None, /)>,\n",
       "  'exec': <function exec(source, globals=None, locals=None, /)>,\n",
       "  'format': <function format(value, format_spec='', /)>,\n",
       "  'getattr': <function getattr>,\n",
       "  'globals': <function globals()>,\n",
       "  'hasattr': <function hasattr(obj, name, /)>,\n",
       "  'hash': <function hash(obj, /)>,\n",
       "  'hex': <function hex(number, /)>,\n",
       "  'id': <function id(obj, /)>,\n",
       "  'input': <bound method Kernel.raw_input of <ipykernel.ipkernel.IPythonKernel object at 0x7f7e8dbf4cf8>>,\n",
       "  'isinstance': <function isinstance(obj, class_or_tuple, /)>,\n",
       "  'issubclass': <function issubclass(cls, class_or_tuple, /)>,\n",
       "  'iter': <function iter>,\n",
       "  'len': <function len(obj, /)>,\n",
       "  'locals': <function locals()>,\n",
       "  'max': <function max>,\n",
       "  'min': <function min>,\n",
       "  'next': <function next>,\n",
       "  'oct': <function oct(number, /)>,\n",
       "  'ord': <function ord(c, /)>,\n",
       "  'pow': <function pow(x, y, z=None, /)>,\n",
       "  'print': <function print>,\n",
       "  'repr': <function repr(obj, /)>,\n",
       "  'round': <function round>,\n",
       "  'setattr': <function setattr(obj, name, value, /)>,\n",
       "  'sorted': <function sorted(iterable, /, *, key=None, reverse=False)>,\n",
       "  'sum': <function sum(iterable, start=0, /)>,\n",
       "  'vars': <function vars>,\n",
       "  'None': None,\n",
       "  'Ellipsis': Ellipsis,\n",
       "  'NotImplemented': NotImplemented,\n",
       "  'False': False,\n",
       "  'True': True,\n",
       "  'bool': bool,\n",
       "  'memoryview': memoryview,\n",
       "  'bytearray': bytearray,\n",
       "  'bytes': bytes,\n",
       "  'classmethod': classmethod,\n",
       "  'complex': complex,\n",
       "  'dict': dict,\n",
       "  'enumerate': enumerate,\n",
       "  'filter': filter,\n",
       "  'float': float,\n",
       "  'frozenset': frozenset,\n",
       "  'property': property,\n",
       "  'int': int,\n",
       "  'list': list,\n",
       "  'map': map,\n",
       "  'object': object,\n",
       "  'range': range,\n",
       "  'reversed': reversed,\n",
       "  'set': set,\n",
       "  'slice': slice,\n",
       "  'staticmethod': staticmethod,\n",
       "  'str': str,\n",
       "  'super': super,\n",
       "  'tuple': tuple,\n",
       "  'type': type,\n",
       "  'zip': zip,\n",
       "  '__debug__': True,\n",
       "  'BaseException': BaseException,\n",
       "  'Exception': Exception,\n",
       "  'TypeError': TypeError,\n",
       "  'StopAsyncIteration': StopAsyncIteration,\n",
       "  'StopIteration': StopIteration,\n",
       "  'GeneratorExit': GeneratorExit,\n",
       "  'SystemExit': SystemExit,\n",
       "  'KeyboardInterrupt': KeyboardInterrupt,\n",
       "  'ImportError': ImportError,\n",
       "  'ModuleNotFoundError': ModuleNotFoundError,\n",
       "  'OSError': OSError,\n",
       "  'EnvironmentError': OSError,\n",
       "  'IOError': OSError,\n",
       "  'EOFError': EOFError,\n",
       "  'RuntimeError': RuntimeError,\n",
       "  'RecursionError': RecursionError,\n",
       "  'NotImplementedError': NotImplementedError,\n",
       "  'NameError': NameError,\n",
       "  'UnboundLocalError': UnboundLocalError,\n",
       "  'AttributeError': AttributeError,\n",
       "  'SyntaxError': SyntaxError,\n",
       "  'IndentationError': IndentationError,\n",
       "  'TabError': TabError,\n",
       "  'LookupError': LookupError,\n",
       "  'IndexError': IndexError,\n",
       "  'KeyError': KeyError,\n",
       "  'ValueError': ValueError,\n",
       "  'UnicodeError': UnicodeError,\n",
       "  'UnicodeEncodeError': UnicodeEncodeError,\n",
       "  'UnicodeDecodeError': UnicodeDecodeError,\n",
       "  'UnicodeTranslateError': UnicodeTranslateError,\n",
       "  'AssertionError': AssertionError,\n",
       "  'ArithmeticError': ArithmeticError,\n",
       "  'FloatingPointError': FloatingPointError,\n",
       "  'OverflowError': OverflowError,\n",
       "  'ZeroDivisionError': ZeroDivisionError,\n",
       "  'SystemError': SystemError,\n",
       "  'ReferenceError': ReferenceError,\n",
       "  'BufferError': BufferError,\n",
       "  'MemoryError': MemoryError,\n",
       "  'Warning': Warning,\n",
       "  'UserWarning': UserWarning,\n",
       "  'DeprecationWarning': DeprecationWarning,\n",
       "  'PendingDeprecationWarning': PendingDeprecationWarning,\n",
       "  'SyntaxWarning': SyntaxWarning,\n",
       "  'RuntimeWarning': RuntimeWarning,\n",
       "  'FutureWarning': FutureWarning,\n",
       "  'ImportWarning': ImportWarning,\n",
       "  'UnicodeWarning': UnicodeWarning,\n",
       "  'BytesWarning': BytesWarning,\n",
       "  'ResourceWarning': ResourceWarning,\n",
       "  'ConnectionError': ConnectionError,\n",
       "  'BlockingIOError': BlockingIOError,\n",
       "  'BrokenPipeError': BrokenPipeError,\n",
       "  'ChildProcessError': ChildProcessError,\n",
       "  'ConnectionAbortedError': ConnectionAbortedError,\n",
       "  'ConnectionRefusedError': ConnectionRefusedError,\n",
       "  'ConnectionResetError': ConnectionResetError,\n",
       "  'FileExistsError': FileExistsError,\n",
       "  'FileNotFoundError': FileNotFoundError,\n",
       "  'IsADirectoryError': IsADirectoryError,\n",
       "  'NotADirectoryError': NotADirectoryError,\n",
       "  'InterruptedError': InterruptedError,\n",
       "  'PermissionError': PermissionError,\n",
       "  'ProcessLookupError': ProcessLookupError,\n",
       "  'TimeoutError': TimeoutError,\n",
       "  'open': <function io.open(file, mode='r', buffering=-1, encoding=None, errors=None, newline=None, closefd=True, opener=None)>,\n",
       "  'copyright': Copyright (c) 2001-2018 Python Software Foundation.\n",
       "  All Rights Reserved.\n",
       "  \n",
       "  Copyright (c) 2000 BeOpen.com.\n",
       "  All Rights Reserved.\n",
       "  \n",
       "  Copyright (c) 1995-2001 Corporation for National Research Initiatives.\n",
       "  All Rights Reserved.\n",
       "  \n",
       "  Copyright (c) 1991-1995 Stichting Mathematisch Centrum, Amsterdam.\n",
       "  All Rights Reserved.,\n",
       "  'credits':     Thanks to CWI, CNRI, BeOpen.com, Zope Corporation and a cast of thousands\n",
       "      for supporting Python development.  See www.python.org for more information.,\n",
       "  'license': Type license() to see the full license text,\n",
       "  'help': Type help() for interactive help, or help(object) for help about object.,\n",
       "  '__IPYTHON__': True,\n",
       "  'display': <function IPython.core.display.display(*objs, include=None, exclude=None, metadata=None, transient=None, display_id=None, **kwargs)>,\n",
       "  'get_ipython': <bound method InteractiveShell.get_ipython of <ipykernel.zmqshell.ZMQInteractiveShell object at 0x7f7e8dbf4e10>>},\n",
       " '__author__': ('Ka-Ping Yee <ping@lfw.org>',\n",
       "  'Yury Selivanov <yselivanov@sprymix.com>'),\n",
       " 'abc': <module 'abc' from '/usr/lib/python3.6/abc.py'>,\n",
       " 'ast': <module 'ast' from '/usr/lib/python3.6/ast.py'>,\n",
       " 'dis': <module 'dis' from '/usr/lib/python3.6/dis.py'>,\n",
       " 'collections': <module 'collections' from '/usr/lib/python3.6/collections/__init__.py'>,\n",
       " 'enum': <module 'enum' from '/usr/lib/python3.6/enum.py'>,\n",
       " 'importlib': <module 'importlib' from '/usr/lib/python3.6/importlib/__init__.py'>,\n",
       " 'itertools': <module 'itertools' (built-in)>,\n",
       " 'linecache': <module 'linecache' from '/usr/lib/python3.6/linecache.py'>,\n",
       " 'os': <module 'os' from '/usr/lib/python3.6/os.py'>,\n",
       " 're': <module 're' from '/usr/lib/python3.6/re.py'>,\n",
       " 'sys': <module 'sys' (built-in)>,\n",
       " 'tokenize': <module 'tokenize' from '/usr/lib/python3.6/tokenize.py'>,\n",
       " 'token': <module 'token' from '/usr/lib/python3.6/token.py'>,\n",
       " 'types': <module 'types' from '/usr/lib/python3.6/types.py'>,\n",
       " 'warnings': <module 'warnings' from '/usr/lib/python3.6/warnings.py'>,\n",
       " 'functools': <module 'functools' from '/usr/lib/python3.6/functools.py'>,\n",
       " 'builtins': <module 'builtins' (built-in)>,\n",
       " 'attrgetter': operator.attrgetter,\n",
       " 'namedtuple': <function collections.namedtuple(typename, field_names, *, verbose=False, rename=False, module=None)>,\n",
       " 'OrderedDict': collections.OrderedDict,\n",
       " 'mod_dict': {...},\n",
       " 'k': 512,\n",
       " 'v': 'ASYNC_GENERATOR',\n",
       " 'CO_OPTIMIZED': 1,\n",
       " 'CO_NEWLOCALS': 2,\n",
       " 'CO_VARARGS': 4,\n",
       " 'CO_VARKEYWORDS': 8,\n",
       " 'CO_NESTED': 16,\n",
       " 'CO_GENERATOR': 32,\n",
       " 'CO_NOFREE': 64,\n",
       " 'CO_COROUTINE': 128,\n",
       " 'CO_ITERABLE_COROUTINE': 256,\n",
       " 'CO_ASYNC_GENERATOR': 512,\n",
       " 'TPFLAGS_IS_ABSTRACT': 1048576,\n",
       " 'ismodule': <function inspect.ismodule(object)>,\n",
       " 'isclass': <function inspect.isclass(object)>,\n",
       " 'ismethod': <function inspect.ismethod(object)>,\n",
       " 'ismethoddescriptor': <function inspect.ismethoddescriptor(object)>,\n",
       " 'isdatadescriptor': <function inspect.isdatadescriptor(object)>,\n",
       " 'ismemberdescriptor': <function inspect.ismemberdescriptor(object)>,\n",
       " 'isgetsetdescriptor': <function inspect.isgetsetdescriptor(object)>,\n",
       " 'isfunction': <function inspect.isfunction(object)>,\n",
       " 'isgeneratorfunction': <function inspect.isgeneratorfunction(object)>,\n",
       " 'iscoroutinefunction': <function inspect.iscoroutinefunction(object)>,\n",
       " 'isasyncgenfunction': <function inspect.isasyncgenfunction(object)>,\n",
       " 'isasyncgen': <function inspect.isasyncgen(object)>,\n",
       " 'isgenerator': <function inspect.isgenerator(object)>,\n",
       " 'iscoroutine': <function inspect.iscoroutine(object)>,\n",
       " 'isawaitable': <function inspect.isawaitable(object)>,\n",
       " 'istraceback': <function inspect.istraceback(object)>,\n",
       " 'isframe': <function inspect.isframe(object)>,\n",
       " 'iscode': <function inspect.iscode(object)>,\n",
       " 'isbuiltin': <function inspect.isbuiltin(object)>,\n",
       " 'isroutine': <function inspect.isroutine(object)>,\n",
       " 'isabstract': <function inspect.isabstract(object)>,\n",
       " 'getmembers': <function inspect.getmembers(object, predicate=None)>,\n",
       " 'Attribute': inspect.Attribute,\n",
       " 'classify_class_attrs': <function inspect.classify_class_attrs(cls)>,\n",
       " 'getmro': <function inspect.getmro(cls)>,\n",
       " 'unwrap': <function inspect.unwrap(func, *, stop=None)>,\n",
       " 'indentsize': <function inspect.indentsize(line)>,\n",
       " '_findclass': <function inspect._findclass(func)>,\n",
       " '_finddoc': <function inspect._finddoc(obj)>,\n",
       " 'getdoc': <function inspect.getdoc(object)>,\n",
       " 'cleandoc': <function inspect.cleandoc(doc)>,\n",
       " 'getfile': <function inspect.getfile(object)>,\n",
       " 'getmodulename': <function inspect.getmodulename(path)>,\n",
       " 'getsourcefile': <function inspect.getsourcefile(object)>,\n",
       " 'getabsfile': <function inspect.getabsfile(object, _filename=None)>,\n",
       " 'modulesbyfile': {},\n",
       " '_filesbymodname': {},\n",
       " 'getmodule': <function inspect.getmodule(object, _filename=None)>,\n",
       " 'findsource': <function inspect.findsource(object)>,\n",
       " 'getcomments': <function inspect.getcomments(object)>,\n",
       " 'EndOfBlock': inspect.EndOfBlock,\n",
       " 'BlockFinder': inspect.BlockFinder,\n",
       " 'getblock': <function inspect.getblock(lines)>,\n",
       " 'getsourcelines': <function inspect.getsourcelines(object)>,\n",
       " 'getsource': <function inspect.getsource(object)>,\n",
       " 'walktree': <function inspect.walktree(classes, children, parent)>,\n",
       " 'getclasstree': <function inspect.getclasstree(classes, unique=False)>,\n",
       " 'Arguments': inspect.Arguments,\n",
       " 'getargs': <function inspect.getargs(co)>,\n",
       " '_getfullargs': <function inspect._getfullargs(co)>,\n",
       " 'ArgSpec': inspect.ArgSpec,\n",
       " 'getargspec': <function inspect.getargspec(func)>,\n",
       " 'FullArgSpec': inspect.FullArgSpec,\n",
       " 'getfullargspec': <function inspect.getfullargspec(func)>,\n",
       " 'ArgInfo': inspect.ArgInfo,\n",
       " 'getargvalues': <function inspect.getargvalues(frame)>,\n",
       " 'formatannotation': <function inspect.formatannotation(annotation, base_module=None)>,\n",
       " 'formatannotationrelativeto': <function inspect.formatannotationrelativeto(object)>,\n",
       " 'formatargspec': <function inspect.formatargspec(args, varargs=None, varkw=None, defaults=None, kwonlyargs=(), kwonlydefaults={}, annotations={}, formatarg=<class 'str'>, formatvarargs=<function <lambda> at 0x7f7e9419e2f0>, formatvarkw=<function <lambda> at 0x7f7e9419e378>, formatvalue=<function <lambda> at 0x7f7e9419e400>, formatreturns=<function <lambda> at 0x7f7e9419e488>, formatannotation=<function formatannotation at 0x7f7e9419e1e0>)>,\n",
       " 'formatargvalues': <function inspect.formatargvalues(args, varargs, varkw, locals, formatarg=<class 'str'>, formatvarargs=<function <lambda> at 0x7f7e9419e598>, formatvarkw=<function <lambda> at 0x7f7e9419e620>, formatvalue=<function <lambda> at 0x7f7e9419e6a8>)>,\n",
       " '_missing_arguments': <function inspect._missing_arguments(f_name, argnames, pos, values)>,\n",
       " '_too_many': <function inspect._too_many(f_name, args, kwonly, varargs, defcount, given, values)>,\n",
       " 'getcallargs': <function inspect.getcallargs(*func_and_positional, **named)>,\n",
       " 'ClosureVars': inspect.ClosureVars,\n",
       " 'getclosurevars': <function inspect.getclosurevars(func)>,\n",
       " 'Traceback': inspect.Traceback,\n",
       " 'getframeinfo': <function inspect.getframeinfo(frame, context=1)>,\n",
       " 'getlineno': <function inspect.getlineno(frame)>,\n",
       " 'FrameInfo': inspect.FrameInfo,\n",
       " 'getouterframes': <function inspect.getouterframes(frame, context=1)>,\n",
       " 'getinnerframes': <function inspect.getinnerframes(tb, context=1)>,\n",
       " 'currentframe': <function inspect.currentframe()>,\n",
       " 'stack': <function inspect.stack(context=1)>,\n",
       " 'trace': <function inspect.trace(context=1)>,\n",
       " '_sentinel': <object at 0x7f7e94ffa1c0>,\n",
       " '_static_getmro': <function inspect._static_getmro(klass)>,\n",
       " '_check_instance': <function inspect._check_instance(obj, attr)>,\n",
       " '_check_class': <function inspect._check_class(klass, attr)>,\n",
       " '_is_type': <function inspect._is_type(obj)>,\n",
       " '_shadowed_dict': <function inspect._shadowed_dict(klass)>,\n",
       " 'getattr_static': <function inspect.getattr_static(obj, attr, default=<object object at 0x7f7e94ffa1c0>)>,\n",
       " 'GEN_CREATED': 'GEN_CREATED',\n",
       " 'GEN_RUNNING': 'GEN_RUNNING',\n",
       " 'GEN_SUSPENDED': 'GEN_SUSPENDED',\n",
       " 'GEN_CLOSED': 'GEN_CLOSED',\n",
       " 'getgeneratorstate': <function inspect.getgeneratorstate(generator)>,\n",
       " 'getgeneratorlocals': <function inspect.getgeneratorlocals(generator)>,\n",
       " 'CORO_CREATED': 'CORO_CREATED',\n",
       " 'CORO_RUNNING': 'CORO_RUNNING',\n",
       " 'CORO_SUSPENDED': 'CORO_SUSPENDED',\n",
       " 'CORO_CLOSED': 'CORO_CLOSED',\n",
       " 'getcoroutinestate': <function inspect.getcoroutinestate(coroutine)>,\n",
       " 'getcoroutinelocals': <function inspect.getcoroutinelocals(coroutine)>,\n",
       " '_WrapperDescriptor': wrapper_descriptor,\n",
       " '_MethodWrapper': method-wrapper,\n",
       " '_ClassMethodWrapper': classmethod_descriptor,\n",
       " '_NonUserDefinedCallables': (wrapper_descriptor,\n",
       "  method-wrapper,\n",
       "  classmethod_descriptor,\n",
       "  builtin_function_or_method),\n",
       " '_signature_get_user_defined_method': <function inspect._signature_get_user_defined_method(cls, method_name)>,\n",
       " '_signature_get_partial': <function inspect._signature_get_partial(wrapped_sig, partial, extra_args=())>,\n",
       " '_signature_bound_method': <function inspect._signature_bound_method(sig)>,\n",
       " '_signature_is_builtin': <function inspect._signature_is_builtin(obj)>,\n",
       " '_signature_is_functionlike': <function inspect._signature_is_functionlike(obj)>,\n",
       " '_signature_get_bound_param': <function inspect._signature_get_bound_param(spec)>,\n",
       " '_signature_strip_non_python_syntax': <function inspect._signature_strip_non_python_syntax(signature)>,\n",
       " '_signature_fromstr': <function inspect._signature_fromstr(cls, obj, s, skip_bound_arg=True)>,\n",
       " '_signature_from_builtin': <function inspect._signature_from_builtin(cls, func, skip_bound_arg=True)>,\n",
       " '_signature_from_function': <function inspect._signature_from_function(cls, func)>,\n",
       " '_signature_from_callable': <function inspect._signature_from_callable(obj, *, follow_wrapper_chains=True, skip_bound_arg=True, sigcls)>,\n",
       " '_void': inspect._void,\n",
       " '_empty': inspect._empty,\n",
       " '_ParameterKind': <enum '_ParameterKind'>,\n",
       " '_POSITIONAL_ONLY': <_ParameterKind.POSITIONAL_ONLY: 0>,\n",
       " '_POSITIONAL_OR_KEYWORD': <_ParameterKind.POSITIONAL_OR_KEYWORD: 1>,\n",
       " '_VAR_POSITIONAL': <_ParameterKind.VAR_POSITIONAL: 2>,\n",
       " '_KEYWORD_ONLY': <_ParameterKind.KEYWORD_ONLY: 3>,\n",
       " '_VAR_KEYWORD': <_ParameterKind.VAR_KEYWORD: 4>,\n",
       " '_PARAM_NAME_MAPPING': {<_ParameterKind.POSITIONAL_ONLY: 0>: 'positional-only',\n",
       "  <_ParameterKind.POSITIONAL_OR_KEYWORD: 1>: 'positional or keyword',\n",
       "  <_ParameterKind.VAR_POSITIONAL: 2>: 'variadic positional',\n",
       "  <_ParameterKind.KEYWORD_ONLY: 3>: 'keyword-only',\n",
       "  <_ParameterKind.VAR_KEYWORD: 4>: 'variadic keyword'},\n",
       " '_get_paramkind_descr': <function dict.__getitem__>,\n",
       " 'Parameter': inspect.Parameter,\n",
       " 'BoundArguments': inspect.BoundArguments,\n",
       " 'Signature': inspect.Signature,\n",
       " 'signature': <function inspect.signature(obj, *, follow_wrapped=True)>,\n",
       " '_main': <function inspect._main()>}"
      ]
     },
     "execution_count": 4,
     "metadata": {},
     "output_type": "execute_result"
    }
   ],
   "source": [
    "# cd /mnt/c/Users/<ubuntu.username>/Pictures\n",
    "import pandas as pd\n",
    "pd.get_dummies.__module__\n",
    "import pandas\n",
    "from scipy.stats import *\n",
    "from pandas.core.reshape.reshape import get_dummies\n",
    "import inspect\n",
    "inspect.__dict__"
   ]
  },
  {
   "cell_type": "code",
   "execution_count": 5,
   "metadata": {},
   "outputs": [],
   "source": [
    "# import_dynamically(find_missing_data)\n",
    "# import_dynamically(normalize_values)\n",
    "# t = DagLayer({})\n",
    "# isinstance(t, DagLayer)"
   ]
  },
  {
   "cell_type": "code",
   "execution_count": 6,
   "metadata": {},
   "outputs": [],
   "source": [
    "import sys\n",
    "sys.path.append(\"../repos/WMP_ML_MVP/\")\n",
    "\n",
    "# from wmp_ml.static.missing_data import *\n",
    "# from wmp_ml.static.feature_engineering import *"
   ]
  },
  {
   "cell_type": "code",
   "execution_count": 7,
   "metadata": {},
   "outputs": [],
   "source": [
    "import numpy as np\n",
    "import matplotlib.pyplot as plt\n",
    "from sklearn.linear_model import LogisticRegression\n",
    "from sklearn import datasets\n",
    "\n",
    "# import some data to play with\n",
    "iris = datasets.load_iris()\n",
    "X = iris.data[:, :2]  # we only take the first two features.\n",
    "Y = iris.target\n",
    "\n",
    "logreg = LogisticRegression(C=1e5, solver='lbfgs', multi_class='multinomial')\n",
    "\n",
    "# Create an instance of Logistic Regression Classifier and fit the data.\n",
    "logreg.fit(X, Y)\n",
    "\n",
    "# Plot the decision boundary. For that, we will assign a color to each\n",
    "# point in the mesh [x_min, x_max]x[y_min, y_max].\n",
    "x_min, x_max = X[:, 0].min() - .5, X[:, 0].max() + .5\n",
    "y_min, y_max = X[:, 1].min() - .5, X[:, 1].max() + .5\n",
    "h = .02  # step size in the mesh\n",
    "xx, yy = np.meshgrid(np.arange(x_min, x_max, h), np.arange(y_min, y_max, h))\n",
    "Z = logreg.predict(np.c_[xx.ravel(), yy.ravel()])"
   ]
  },
  {
   "cell_type": "code",
   "execution_count": 8,
   "metadata": {},
   "outputs": [
    {
     "data": {
      "text/plain": [
       "'[at, vb, ddd >> t34, cb, d, fvv, a, b, vv]'"
      ]
     },
     "execution_count": 8,
     "metadata": {},
     "output_type": "execute_result"
    }
   ],
   "source": [
    "# acc = DagLayer({accuracy_score: None, f1_score: None, precision_score: None, confusion_matrix: None, \n",
    "#                    classification_report: None, recall_score :None})\n",
    "\n",
    "# winsorize_layer = DagLayer({wmp_winsorize: {'limits' : [0.05, 0.05]}})\n",
    "def flatten_lists(l, sublist, rec_list):\n",
    "\n",
    "    for item in l:\n",
    "        if isinstance(item, list):\n",
    "            flatten_lists(item, sublist, True)\n",
    "        else:\n",
    "            sublist.append(item)\n",
    "            \n",
    "    return sublist\n",
    "    \n",
    "def flatten_lists_master(l):\n",
    "    return flatten_lists(l, [], False)\n",
    "\n",
    "ll = [['at',['vb', ['ddd >> t34','cb'], 'd'],'fvv'], ['a','b','vv']]\n",
    "\n",
    "res = flatten_lists_master(ll)\n",
    "str(res).replace(\"'\",\"\")"
   ]
  },
  {
   "cell_type": "code",
   "execution_count": 9,
   "metadata": {},
   "outputs": [],
   "source": [
    "'''\n",
    "dictionary = something belongs to something else, is kwargs, or has certain order\n",
    "list = collection of several parallel operations\n",
    "\n",
    "blocks -> first level keys (THESE HAVE SET ORDER)\n",
    "Below this ^^^ -> The order you provide the code will matter\n",
    "    - dict = matters\n",
    "    - list = does not matter\n",
    "\n",
    "'''\n",
    "import sys\n",
    "import os\n",
    "#print(os.getcwd())\n",
    "sys.path.append(\"../\")\n",
    "from sklearn.preprocessing import *\n",
    "from sklearn.model_selection import *\n",
    "from scipy.stats import *\n",
    "import pandas as pd\n",
    "from sklearn.metrics import *\n",
    "from wmp_ml.static.splitting import *\n",
    "from wmp_ml.static.preprocessing import *\n",
    "from wmp_ml.static.feature_engineering import *\n",
    "from wmp_ml.static.eda import *\n",
    "from sklearn.linear_model import LogisticRegression\n",
    "from sklearn.naive_bayes import GaussianNB\n",
    "from wmp_ml.dag.layers import DagLayer\n",
    "\n",
    "kwargs = \\\n",
    "{   \n",
    "     'modeling': { \n",
    "                    'models': DagLayer({'LOG': {LogisticRegression: None}, \n",
    "                               'GNB': {GaussianNB: None}}),              \n",
    "                 },\n",
    " \n",
    "     'data_sources': [DagLayer({'https://raw.githubusercontent.com/SamShowalter/WMP_training/01_EDA/data/IBM_Employee_Attrition.csv': {pd.read_csv:None}})],\n",
    "\n",
    "#Expects flat dataset\n",
    "    'splitting': [\n",
    "                        DagLayer({'split': {auto_train_test_split  : {'target': \"Attrition\",\n",
    "                                                                              'test_size': 0.2,\n",
    "                                                         'random_state': 42}}}),\n",
    "                 ],\n",
    " \n",
    "     \n",
    "     #Expects flat dataset\n",
    "        'preprocessing': { \n",
    "                        \n",
    "                        'cleansing': [   \n",
    "                                              DagLayer({'winsorize': {wmp_winsorize: {'limits' : [0.05, 0.05],\n",
    "                                                                                      'col_names': ['MonthlyRate',\n",
    "                                                                                                    'NumCompaniesWorked',\n",
    "                                                                                                   'PercentSalaryHike']}}}),\n",
    "                                              DagLayer({'median_impute': {wmp_impute : {'method': \"median\"}}})\n",
    "                                     ]\n",
    "                        \n",
    "                     },\n",
    "    #Expects flat dataset\n",
    "    'feature_engineering': {\n",
    "                            'transformations': DagLayer({\n",
    "                                    ('Department', 'EducationField', 'JobRole', \"MaritalStatus\"): {pd.get_dummies: None},\n",
    "                                    'BusinessTravel': {create_ordinal_df: {'ordinal_names':{\"Non-Travel\" :0, \n",
    "                                                                                            \"Travel_Rarely\":1, \n",
    "                                                                                            \"Travel_Frequently\": 2}}},\n",
    "                                    ('Attrition', 'Gender', 'OverTime') : {convert_boolean_df: \n",
    "                                                                           {'boolean_names_and_values':\n",
    "                                                                            {\"Attrition\": [\"Yes\", \"No\"],\n",
    "                                                                            \"Gender\": [\"Male\", \"Female\"],\n",
    "                                                                            \"OverTime\": [\"Yes\", \"No\"]}, \n",
    "                                                                            'tag' : None}},\n",
    "                                    ('Age', 'DistanceFromHome', 'EmployeeCount', \"EnvironmentSatisfaction\",\n",
    "                                    'JobInvolvement', 'JobSatisfaction', \"MonthlyIncome\",\n",
    "                                    'NumCompaniesWorked', 'PercentSalaryHike', \"PerformanceRating\",\n",
    "                                    'RelationshipSatisfaction', 'StandardHours', 'TotalWorkingYears',\n",
    "                                    'TrainingTimesLastYear', 'WorkLifeBalance', 'YearsAtCompany',\n",
    "                                    'YearsInCurrentRole', 'YearsSinceLastPromotion',\n",
    "                                    'YearsWithCurrManager') : {normalize_values: {'transformer': StandardScaler, \n",
    "                                                                                  'tag': None}},\n",
    "                                    'MonthlyRate': {yeojohnson: None,\n",
    "                                                    normalize_values: {'transformer': StandardScaler,\n",
    "                                                                       'tag': None}},\n",
    "                               })\n",
    "                            \n",
    "                           },\n",
    " \n",
    "#      #Expects predictions\n",
    "#      'evaluation':{'metrics' : DagLayer({'acc': {accuracy_score: None}, \n",
    "#                                         'f1': {f1_score: None}, \n",
    "#                                         'precision': {precision_score: None},\n",
    "#                                         'conf_matrix': {confusion_matrix: None}, \n",
    "#                                         'class_report': {classification_report: None},\n",
    "#                                         'recall': {recall_score :None}})\n",
    "#                   }\n",
    "   \n",
    "}"
   ]
  },
  {
   "cell_type": "code",
   "execution_count": 10,
   "metadata": {},
   "outputs": [
    {
     "data": {
      "text/plain": [
       "False"
      ]
     },
     "execution_count": 10,
     "metadata": {},
     "output_type": "execute_result"
    }
   ],
   "source": [
    "inspect.isfunction(StandardScaler)"
   ]
  },
  {
   "cell_type": "code",
   "execution_count": 11,
   "metadata": {},
   "outputs": [
    {
     "name": "stderr",
     "output_type": "stream",
     "text": [
      "Traceback (most recent call last):\n",
      "  File \"<ipython-input-11-d45316729d62>\", line 20, in rec_imports\n",
      "    config_section = config_section.layer_config\n",
      "AttributeError: 'DagLayer' object has no attribute 'layer_config'\n"
     ]
    },
    {
     "name": "stdout",
     "output_type": "stream",
     "text": [
      "None\n"
     ]
    },
    {
     "name": "stderr",
     "output_type": "stream",
     "text": [
      "Traceback (most recent call last):\n",
      "  File \"<ipython-input-11-d45316729d62>\", line 27, in rec_imports\n",
      "    config_keys = config_section.keys()\n",
      "AttributeError: 'list' object has no attribute 'keys'\n"
     ]
    },
    {
     "name": "stdout",
     "output_type": "stream",
     "text": [
      "None\n"
     ]
    },
    {
     "name": "stderr",
     "output_type": "stream",
     "text": [
      "Traceback (most recent call last):\n",
      "  File \"<ipython-input-11-d45316729d62>\", line 20, in rec_imports\n",
      "    config_section = config_section.layer_config\n",
      "AttributeError: 'DagLayer' object has no attribute 'layer_config'\n"
     ]
    },
    {
     "name": "stdout",
     "output_type": "stream",
     "text": [
      "None\n",
      "\n",
      "\n",
      "\n",
      "\n"
     ]
    }
   ],
   "source": [
    "import inspect\n",
    "import traceback\n",
    "def import_dynamically(obj):\n",
    "    import_statement = None\n",
    "    try:\n",
    "        import_statement = \"from {} import {}\\n\".format(\n",
    "                                                      obj.__module__,\n",
    "                                                      obj.__name__)\n",
    "    except Exception as e:\n",
    "            print(\"Dynamic import failed. Trying simpler import.\")\n",
    "            import_statement = 'import {}\\n'.format(obj.__name__)\n",
    "    \n",
    "    return import_statement\n",
    "\n",
    "def rec_imports(config_section, import_list, import_check):\n",
    "    \n",
    "    try:\n",
    "        config_keys = None\n",
    "        if isinstance(config_section, DagLayer):\n",
    "            config_section = config_section.layer_config\n",
    "            config_keys = config_section.keys()\n",
    "\n",
    "        if isinstance(config_section, set):\n",
    "            config_keys = config_section\n",
    "\n",
    "        else:\n",
    "            config_keys = config_section.keys()\n",
    "\n",
    "        for key in config_keys:\n",
    "\n",
    "            if (any([inspect.isclass(key),\n",
    "                   inspect.isfunction(key),\n",
    "                   inspect.ismodule(key)]) \n",
    "                   and key not in import_check\n",
    "                   and not isinstance(key, DagLayer)):\n",
    "                import_list.append(import_dynamically(key))\n",
    "                import_check.add(key)\n",
    "\n",
    "            elif (isinstance(key, set) or \n",
    "                isinstance(key, DagLayer)):\n",
    "                rec_imports(key, import_list, import_check)\n",
    "            \n",
    "            else:\n",
    "                rec_imports(config_section[key], import_list, import_check)\n",
    "                \n",
    "    \n",
    "    except Exception as e:\n",
    "        print(traceback.print_exc())\n",
    "        return \"\"\n",
    "            \n",
    "\n",
    "def write_imports(config):\n",
    "    import_list = []\n",
    "    import_check = set()\n",
    "    for key in config:\n",
    "        if isinstance(config[key], dict):\n",
    "            rec_imports(config[key], import_list, import_check)\n",
    "        if isinstance(config[key], DagLayer):\n",
    "            rec_imports(config[key].layer_config, import_list, import_check)\n",
    "    print(\"\\n\\n\")      \n",
    "    return \"\".join([item for item in import_list if item != \"\"])\n",
    "\n",
    "print(write_imports(kwargs))"
   ]
  },
  {
   "cell_type": "code",
   "execution_count": 12,
   "metadata": {},
   "outputs": [
    {
     "data": {
      "text/plain": [
       "{'test': ['something', 'new_something'], 'astest': ['new_something']}"
      ]
     },
     "execution_count": 12,
     "metadata": {},
     "output_type": "execute_result"
    }
   ],
   "source": [
    "d = {}\n",
    "d['test'] = ['something']\n",
    "d.setdefault('test', []).append('new_something')\n",
    "d.setdefault('astest', []).append('new_something')\n",
    "d"
   ]
  },
  {
   "cell_type": "code",
   "execution_count": 13,
   "metadata": {},
   "outputs": [
    {
     "data": {
      "text/plain": [
       "[{'asf': 'asd'}]"
      ]
     },
     "execution_count": 13,
     "metadata": {},
     "output_type": "execute_result"
    }
   ],
   "source": [
    "# kwarg_dict = collections.OrderedDict(kwargs)\n",
    "# # for item in kwarg_dict.keys():\n",
    "# #     print(kwarg_dict[item])\n",
    "\n",
    "# #test = collections.OrderedDict(kwarg_dict['preprocessing'])\n",
    "# for key in kwarg_dict['preprocessing']:\n",
    "#     if isinstance(key, tuple):\n",
    "#         for item in key:\n",
    "#             print(item)\n",
    "#     else:\n",
    "#         print(kwarg_dict['preprocessing'][key])\n",
    "        \n",
    "l = []\n",
    "l.append({'asf': 'asd'})\n",
    "l"
   ]
  },
  {
   "cell_type": "code",
   "execution_count": 14,
   "metadata": {},
   "outputs": [
    {
     "name": "stdout",
     "output_type": "stream",
     "text": [
      "2 1 1\n",
      "1 2 3\n",
      "5\n",
      "4\n"
     ]
    }
   ],
   "source": [
    "def abc(a, b = 2, c = 3):\n",
    "    print(a, b, c)\n",
    "\n",
    "test = {'b': 1, 'c': 1}\n",
    "    \n",
    "abc(2, **test)\n",
    "abc(1, **{})\n",
    "\n",
    "def a(b ,a):\n",
    "    print(b)\n",
    "    print(a)\n",
    "\n",
    "a(a = 4, b = 5)"
   ]
  },
  {
   "cell_type": "code",
   "execution_count": 15,
   "metadata": {},
   "outputs": [],
   "source": [
    "# import pprint\n",
    "# print(pprint.pformat(tt))"
   ]
  },
  {
   "cell_type": "code",
   "execution_count": 16,
   "metadata": {},
   "outputs": [],
   "source": [
    "#df = pd.read_csv('https://raw.githubusercontent.com/SamShowalter/WMP_training/01_EDA/data/IBM_Employee_Attrition.csv')"
   ]
  },
  {
   "cell_type": "code",
   "execution_count": 17,
   "metadata": {},
   "outputs": [],
   "source": [
    "#df.head()"
   ]
  },
  {
   "cell_type": "code",
   "execution_count": 18,
   "metadata": {},
   "outputs": [],
   "source": [
    "#StandardScaler().fit_transform(df.Age.values.reshape(-1,1))"
   ]
  },
  {
   "cell_type": "code",
   "execution_count": 19,
   "metadata": {},
   "outputs": [],
   "source": [
    "#Provided function for detecting outliers\n",
    "def detect_outliers(col_names, data, std_thresh = 6):\n",
    "    \n",
    "    for column in col_names:\n",
    "        \n",
    "        #Create z_score proxy for each column\n",
    "        data['z_score'] = np.absolute(zscore(data[column]))\n",
    "        \n",
    "        #Determine if there are outliers, as defined by z_score threshold\n",
    "        outliers = data.loc[data.z_score > std_thresh, [column, 'z_score']]\n",
    "        \n",
    "        #If there are no outliers\n",
    "        if outliers.shape[0] == 0:\n",
    "            print(\"No outliers for column {} at threshold of {} stdevs\".format(column, std_thresh))\n",
    "        \n",
    "        #If there are outliers\n",
    "        else:\n",
    "            print(\"\\n {} outlier(s) found for column {} at threshold of {} stdevs. See below\".format(outliers.shape[0],\n",
    "                                                                                        column, std_thresh))\n",
    "            print(\"\\n\")\n",
    "            print(outliers)\n",
    "            print(\"\\n\")\n",
    "        \n",
    "        #Drop z_score from data\n",
    "        data.drop('z_score', axis = 1, inplace = True)"
   ]
  },
  {
   "cell_type": "code",
   "execution_count": 20,
   "metadata": {},
   "outputs": [],
   "source": [
    "#LogisticRegression.__dict__"
   ]
  },
  {
   "cell_type": "code",
   "execution_count": 21,
   "metadata": {},
   "outputs": [],
   "source": [
    "import pandas as pd\n",
    "import os\n",
    "import sys\n",
    "sys.path.append(\"../wmp_ml/static\")\n",
    "sys.path.append(\"../wmp_ml/dag\")"
   ]
  },
  {
   "cell_type": "code",
   "execution_count": 22,
   "metadata": {},
   "outputs": [],
   "source": [
    "from generator import DagGenerator\n",
    "from datetime import datetime\n"
   ]
  },
  {
   "cell_type": "code",
   "execution_count": 23,
   "metadata": {},
   "outputs": [
    {
     "data": {
      "text/plain": [
       "{'HELLO': {'newcell': 5}}"
      ]
     },
     "execution_count": 23,
     "metadata": {},
     "output_type": "execute_result"
    }
   ],
   "source": [
    "d = {}\n",
    "d.setdefault('HELLO', {})['newcell'] = 5\n",
    "d"
   ]
  },
  {
   "cell_type": "code",
   "execution_count": 24,
   "metadata": {},
   "outputs": [],
   "source": [
    "tt = {\n",
    "        'test': 'test',\n",
    "        'args': {\n",
    "                                                    ('Department', 'EducationField', 'JobRole', \"MaritalStatus\"): {pd.get_dummies: None},\n",
    "                                                    'BusinessTravel': {create_ordinal_df: {'ordinal_names':{\"Non-Travel\" :0, \"Travel_Rarely\":1, \"Travel_Frequently\": 2}}},\n",
    "                                                    ('Attrition', 'Gender', 'OverTime') : {convert_boolean_df: {'boolean_names_and_values':[[\"Attrition\", \"Yes\", \"No\"],\n",
    "                                                                                                                  [\"Gender\", \"Male\", \"Female\"],\n",
    "                                                                                                                   [\"OverTime\", \"Yes\", \"No\"]], \n",
    "                                                                                                                'tag' : None}},\n",
    "                                                    ('Age', 'DistanceFromHome', 'EmployeeCount', \"EnvironmentSatisfaction\",\n",
    "                                                    'JobInvolvement', 'JobSatisfaction', \"MonthlyIncome\",\n",
    "                                                    'NumCompaniesWorked', 'PercentSalaryHike', \"PerformanceRating\",\n",
    "                                                    'RelationshipSatisfaction', 'StandardHours', 'TotalWorkingYears',\n",
    "                                                    'TrainingTimesLastYear', 'WorkLifeBalance', 'YearsAtCompany',\n",
    "                                                    'YearsInCurrentRole', 'YearsSinceLastPromotion',\n",
    "                                                    'YearsWithCurrManager') : {normalize_values: {'transformer': StandardScaler, \n",
    "                                                                                                  'tag': None}},\n",
    "                                                    'MonthlyRate': {yeojohnson: None,\n",
    "                                                                    normalize_values: {'transformer': StandardScaler,\n",
    "                                                                                       'tag': None}},\n",
    "                                               }}"
   ]
  },
  {
   "cell_type": "code",
   "execution_count": 25,
   "metadata": {},
   "outputs": [],
   "source": [
    "template = '''\\nPythonOperator( \n",
    "        task_id={},\n",
    "        provide_context=True,\n",
    "        python_callable={},\n",
    "        params = {},\n",
    "        dag = dag)\\n\n",
    "'''\n",
    "\n",
    "def parse_params(params):\n",
    "    params_str = str(params)\n",
    "    obj_dict = {}\n",
    "    for k,v in params.items():\n",
    "        if any([inspect.isclass(k),\n",
    "                inspect.ismodule(k),\n",
    "                inspect.isfunction(k)]):\n",
    "            obj_dict[str(k)] = k\n",
    "        elif any([inspect.isclass(v),\n",
    "                inspect.ismodule(v),\n",
    "                inspect.isfunction(v)]):\n",
    "            obj_dict[str(v)] = v\n",
    "            \n",
    "        if isinstance(v, dict):\n",
    "            v = parse_params(v)\n",
    "    \n",
    "    for key in obj_dict:\n",
    "        params_str = params_str.replace(key, obj_dict[key].__name__)\n",
    "        \n",
    "    \n",
    "    \n",
    "    \n",
    "    return params_str\n",
    "        \n",
    "\n",
    "def test_parser(kwargs):\n",
    "    for key in kwargs:\n",
    "\n",
    "        for key2 in kwargs[key]:\n",
    "            if kwargs[key][key2] == None:\n",
    "                kwargs[key][key2] = {}\n",
    "            print()\n",
    "            print(template.format(key,\n",
    "\t\t\t\tkey2.__name__,\n",
    "                parse_params(kwargs[key][key2])))\n",
    "            print()\n",
    "            \n",
    "#test_parser(tt)"
   ]
  },
  {
   "cell_type": "code",
   "execution_count": null,
   "metadata": {},
   "outputs": [],
   "source": []
  },
  {
   "cell_type": "code",
   "execution_count": 26,
   "metadata": {},
   "outputs": [],
   "source": [
    "dag_args = { \n",
    "                'dag_name': \"WMP_ML_test_creation\",\n",
    "                'dag':      {\n",
    "                                'owner': 'Sam Showalter',\n",
    "                                'email': ['sshowalter@wmp.com'],\n",
    "                                'op_args':{},\n",
    "                                'op_kwargs': {},\n",
    "                                'params': {}\n",
    "                            },\n",
    "                'config' : kwargs\n",
    "}"
   ]
  },
  {
   "cell_type": "code",
   "execution_count": 27,
   "metadata": {},
   "outputs": [
    {
     "name": "stdout",
     "output_type": "stream",
     "text": [
      "0 ['data_sources'] ds\n",
      "2 ['splitting'] s\n",
      "3.0 ['preprocessing', 'cleansing'] p_cleansing_l0\n",
      "3.1 ['preprocessing', 'cleansing'] p_cleansing_l1\n",
      "4 ['feature_engineering', 'transformations'] fe_transformations\n",
      "5 ['modeling', 'models'] m_models\n"
     ]
    }
   ],
   "source": [
    "dg = DagGenerator(dag_args)\n",
    "dg.generate_file()"
   ]
  },
  {
   "cell_type": "code",
   "execution_count": 28,
   "metadata": {},
   "outputs": [],
   "source": [
    "dd ={\n",
    "    \"data_sources\": 0,\n",
    "    \"eda\": 1,\n",
    "    \"splitting\": 2,\n",
    "    \"preprocessing\": 3,\n",
    "    \"feature_engineering\": 4,\n",
    "    \"modeling\": 5,\n",
    "    \"evaluation\": 6,\n",
    "    \"visualization\": 7,\n",
    "    \"storage\": 8\n",
    "}"
   ]
  },
  {
   "cell_type": "code",
   "execution_count": 29,
   "metadata": {},
   "outputs": [
    {
     "data": {
      "text/plain": [
       "['a', 'b']"
      ]
     },
     "execution_count": 29,
     "metadata": {},
     "output_type": "execute_result"
    }
   ],
   "source": [
    "a = [None]* 6\n",
    "a.insert(2, 'a')\n",
    "a.insert(4, 'b')\n",
    "[item for item in a if item is not None]"
   ]
  },
  {
   "cell_type": "code",
   "execution_count": 30,
   "metadata": {},
   "outputs": [
    {
     "data": {
      "text/plain": [
       "'{get_dummies: None, \"information\": \"Do not change this\"}'"
      ]
     },
     "execution_count": 30,
     "metadata": {},
     "output_type": "execute_result"
    }
   ],
   "source": [
    "# import json\n",
    "\n",
    "t = {pd.get_dummies.__name__: None,\n",
    " 'information': \"Do not change this\"}\n",
    "\n",
    "\n",
    "# def set_default(obj):\n",
    "#     if isinstance(obj, set):\n",
    "#         return list(obj)\n",
    "#     raise TypeError\n",
    "\n",
    "json.dumps(t).replace( '\"' + pd.get_dummies.__name__ + '\"', pd.get_dummies.__name__).replace('null', 'None')\n",
    "\n",
    "# with open('../repos/WMP_ML_MVP/wmp_ml/config/dag_hierarchy.cfg', 'w') as config:\n",
    "#     config.write(json.dumps(dd, indent=4))\n",
    "#     config.close()\n"
   ]
  },
  {
   "cell_type": "code",
   "execution_count": 31,
   "metadata": {},
   "outputs": [
    {
     "ename": "NameError",
     "evalue": "name 'pprint' is not defined",
     "output_type": "error",
     "traceback": [
      "\u001b[0;31m---------------------------------------------------------------------------\u001b[0m",
      "\u001b[0;31mNameError\u001b[0m                                 Traceback (most recent call last)",
      "\u001b[0;32m<ipython-input-31-e09e47133354>\u001b[0m in \u001b[0;36m<module>\u001b[0;34m\u001b[0m\n\u001b[1;32m     18\u001b[0m              'visualization': {7: ['AUROC']}}\n\u001b[1;32m     19\u001b[0m \u001b[0;34m\u001b[0m\u001b[0m\n\u001b[0;32m---> 20\u001b[0;31m \u001b[0mprint\u001b[0m\u001b[0;34m(\u001b[0m\u001b[0mpprint\u001b[0m\u001b[0;34m.\u001b[0m\u001b[0mpformat\u001b[0m\u001b[0;34m(\u001b[0m\u001b[0mconfig\u001b[0m\u001b[0;34m)\u001b[0m\u001b[0;34m)\u001b[0m\u001b[0;34m\u001b[0m\u001b[0;34m\u001b[0m\u001b[0m\n\u001b[0m",
      "\u001b[0;31mNameError\u001b[0m: name 'pprint' is not defined"
     ]
    }
   ],
   "source": [
    "config = {   'splitting': {2: ['train_test_split', 'k_fold']},\n",
    "             'data_souces': {0: {'csv': 0, 'sql': 1, 'pickle': 2}},\n",
    "             'preprocessing': {3: {0: 'outliers', 1: 'missing_data'}},\n",
    "             'evaluation': {6: ['accuracy',\n",
    "               'f1',\n",
    "               'confusion_matrix',\n",
    "               'classification_report',\n",
    "               'precision',\n",
    "               'recall']},\n",
    "             'eda': {1: {'profiling': 0}},\n",
    "             'modeling': {5: {'hyperparameter_tuning': {}, 'models': {}}},\n",
    "             'storage': {8: {'model': 'FILEPATH',\n",
    "               'pipeline': 'FILEPATH',\n",
    "               'performance': 'FILEPATH',\n",
    "               'data': 'FILEPATH'}},\n",
    "             'feature_engineering': \"HI\",\n",
    "              \n",
    "             'visualization': {7: ['AUROC']}}\n",
    "          \n",
    "print(pprint.pformat(config))"
   ]
  }
 ],
 "metadata": {
  "kernelspec": {
   "display_name": "Python 3",
   "language": "python",
   "name": "python3"
  },
  "language_info": {
   "codemirror_mode": {
    "name": "ipython",
    "version": 3
   },
   "file_extension": ".py",
   "mimetype": "text/x-python",
   "name": "python",
   "nbconvert_exporter": "python",
   "pygments_lexer": "ipython3",
   "version": "3.6.8"
  }
 },
 "nbformat": 4,
 "nbformat_minor": 2
}
