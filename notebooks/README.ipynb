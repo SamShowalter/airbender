{
 "cells": [
  {
   "cell_type": "markdown",
   "metadata": {},
   "source": [
    "<div align = \"center\"><img src=\"https://i.ibb.co/4FNYYqT/Airbender.png\" alt=\"Airbender\"  border=\"0\"></div>\n",
    "\n",
    "<div align=\"center\">\n",
    "<!-- Python -->\n",
    "    <img src = \"https://img.shields.io/badge/python-v3.6+-blue.svg\"\n",
    "         alt = \"Python\" />\n",
    "<!-- Release -->\n",
    "    <img src = \"https://img.shields.io/badge/Release-0.1.0-00CC33.svg\" \n",
    "         alt = \"Release\" />\n",
    "<!-- Maintained -->\n",
    "    <img src = \"https://img.shields.io/badge/Maintained-yes-00CC33.svg\" \n",
    "         alt = \"Maintained\" />\n",
    "<!-- Build Status -->\n",
    "    <img src = \"https://img.shields.io/badge/Build-failing-FF0000.svg\" \n",
    "         alt = \"Build Status\" />   \n",
    "<!-- Development Status -->\n",
    "    <img src = \"https://img.shields.io/badge/Development-in%20progress-FF9933.svg\" \n",
    "         alt = \"Development Status\" />  \n",
    "<!-- Stability -->\n",
    "    <img src = \"https://img.shields.io/badge/Stability-experimental-FF9933.svg\" \n",
    "         alt = \"Stability\" />\n",
    "</div>\n",
    "\n",
    "<div align=\"center\">\n",
    "\t<sub>Built with :heart: by \n",
    "\t\t<a href = \"https://samshowalter.github.io\"> Samuel Showalter</a>\n",
    "\t</sub>\n",
    "</div> \n",
    "<br />\n",
    "\n",
    "Airbender allows developers to run nuanced machine learning experiments with Apache Airflow by dynamically generating a code file implementing an unbiased, efficient experiment based on a simple configuration. This allows Software Engineers and Data Scientists to have more time to think about their modeling insights, as all metrics and artifacts are tracked in Airflow and can be analyzed through its User Interface. Jump down `Examples` for more information!\n",
    "\n",
    "\n",
    "# Contents\n",
    "- [Overview](#overview)\n",
    "- [Dependencies](#deps)\n",
    "- [Installation](#install)\n",
    "- [Features](#features)\n",
    "- [Example](#example)\n",
    "- [Documentation](#docs)\n",
    "- [FAQs](#faq)\n",
    "- [Contribute](#contribute)\n",
    "\n",
    "\n",
    "<a name = \"place1\"></a>\n",
    "## Place1\n"
   ]
  },
  {
   "cell_type": "markdown",
   "metadata": {},
   "source": []
  }
 ],
 "metadata": {
  "kernelspec": {
   "display_name": "Python 3",
   "language": "python",
   "name": "python3"
  },
  "language_info": {
   "codemirror_mode": {
    "name": "ipython",
    "version": 3
   },
   "file_extension": ".py",
   "mimetype": "text/x-python",
   "name": "python",
   "nbconvert_exporter": "python",
   "pygments_lexer": "ipython3",
   "version": "3.6.8"
  }
 },
 "nbformat": 4,
 "nbformat_minor": 2
}
