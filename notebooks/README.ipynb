{
 "cells": [
  {
   "cell_type": "markdown",
   "metadata": {},
   "source": [
    "\n",
    "\n",
    "\n",
    "\n",
    "<div align=\"center\">\n",
    "<!-- Python -->\n",
    "    <img src = \"https://img.shields.io/badge/python-v3.6+-blue.svg\"\n",
    "         alt = \"Python\" />\n",
    "<!-- Release -->\n",
    "    <img src = \"https://img.shields.io/badge/Release-0.1.0-00CC33.svg\" \n",
    "         alt = \"Release\" />\n",
    "<!-- Maintained -->\n",
    "    <img src = \"https://img.shields.io/badge/Maintained-yes-00CC33.svg\" \n",
    "         alt = \"Maintained\" />\n",
    "<!-- Build Status -->\n",
    "    <img src = \"https://img.shields.io/badge/Build-failing-00CC33.svg\" \n",
    "         alt = \"Build Status\" />   \n",
    "<!-- Development Status -->\n",
    "    <img src = \"https://img.shields.io/badge/Development-in%20progress-FF9933.svg\" \n",
    "         alt = \"Development Status\" />  \n",
    "<!-- Stability -->\n",
    "    <img src = \"https://img.shields.io/badge/Stability-experimental-FF9933.svg\" \n",
    "         alt = \"Stability\" />\n",
    "</div>\n",
    "\n",
    " \n"
   ]
  },
  {
   "cell_type": "markdown",
   "metadata": {},
   "source": [
    "<div align = \"center\"><img src=\"https://i.ibb.co/4FNYYqT/Airbender.png\" alt=\"Airbender\"  border=\"0\"></div>\n",
    "\n",
    "# Contents\n",
    "[place1](#place1)\n",
    "\n",
    "[FAQs](#faq)\n",
    "\n",
    "\n",
    "<a name = \"place1\"></a>\n",
    "## Place1\n",
    "Design Machine Learning experiments using configurations, then have them be automagically be converted into code that builds airflow dags. This greatly speeds up the process of machine learning software development.\n",
    "\n",
    "<!-- Test Coverage -->\n",
    "    <img src = \"https://img.shields.io/badge/Coverage-60%20percent-808080.svg\" alt = \"Test Coverage\"/>  "
   ]
  }
 ],
 "metadata": {
  "kernelspec": {
   "display_name": "Python 3",
   "language": "python",
   "name": "python3"
  },
  "language_info": {
   "codemirror_mode": {
    "name": "ipython",
    "version": 3
   },
   "file_extension": ".py",
   "mimetype": "text/x-python",
   "name": "python",
   "nbconvert_exporter": "python",
   "pygments_lexer": "ipython3",
   "version": "3.6.8"
  }
 },
 "nbformat": 4,
 "nbformat_minor": 2
}
