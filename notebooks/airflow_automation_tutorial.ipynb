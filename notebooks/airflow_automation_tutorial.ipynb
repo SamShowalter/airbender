{
 "cells": [
  {
   "cell_type": "markdown",
   "metadata": {},
   "source": [
    "# Airflow Machine Learning Automation Tool Tutorial\n",
    "\n",
    "This overview will guide you through how to orchestrate your own machine learning experiments with the airflow_ml tool.\n",
    "\n",
    "Author: Sam Showalter\n",
    "\n",
    "First, let's bring in general imports"
   ]
  },
  {
   "cell_type": "markdown",
   "metadata": {},
   "source": [
    "## Notes\n",
    "\n",
    "A few quick notes on the format of the configuration\n"
   ]
  },
  {
   "cell_type": "code",
   "execution_count": 1,
   "metadata": {},
   "outputs": [
    {
     "name": "stdout",
     "output_type": "stream",
     "text": [
      "/home/sshowalter/repos/ML-Airflow/notebooks\n"
     ]
    }
   ],
   "source": [
    "import pandas as pd\n",
    "import os\n",
    "import sys\n",
    "print(os.getcwd())\n",
    "sys.path.append(\"../\")\n",
    "\n",
    "#Airflow DAG specific imports\n",
    "from wmp_ml.dag.layers import DagLayer"
   ]
  },
  {
   "cell_type": "markdown",
   "metadata": {},
   "source": [
    "## Data Sources"
   ]
  },
  {
   "cell_type": "code",
   "execution_count": 2,
   "metadata": {},
   "outputs": [],
   "source": [
    "import pandas as pd\n",
    "\n",
    "data_sources = [DagLayer({'https://raw.githubusercontent.com/SamShowalter/WMP_training/01_EDA/data/IBM_Employee_Attrition.csv': \n",
    "               {pd.read_csv:None}})]\n"
   ]
  },
  {
   "cell_type": "markdown",
   "metadata": {},
   "source": [
    "## Preprocessing"
   ]
  },
  {
   "cell_type": "code",
   "execution_count": 3,
   "metadata": {},
   "outputs": [],
   "source": [
    "from sklearn.preprocessing import *\n",
    "from wmp_ml.static.preprocessing import *\n",
    "\n",
    "preprocessing = { 'cleansing': [   \n",
    "                  DagLayer({'winsorize': {wmp_winsorize: {'limits' : [0.05, 0.05],\n",
    "                                                          'col_names': ['MonthlyRate',\n",
    "                                                                        'NumCompaniesWorked',\n",
    "                                                                       'PercentSalaryHike']}}}),\n",
    "                  DagLayer({'median_impute': {wmp_impute : {'method': \"median\"}}})]\n",
    "                        \n",
    "                }"
   ]
  },
  {
   "cell_type": "markdown",
   "metadata": {},
   "source": [
    "## Feature Engineering"
   ]
  },
  {
   "cell_type": "code",
   "execution_count": 4,
   "metadata": {},
   "outputs": [],
   "source": [
    "from sklearn.metrics import *\n",
    "from wmp_ml.static.splitting import *\n",
    "from wmp_ml.static.feature_engineering import *\n",
    "from scipy.stats import *\n",
    "\n",
    "feature_engineering = {\n",
    "                            'transformations': DagLayer({\n",
    "                                    ('Department', 'EducationField', 'JobRole', \"MaritalStatus\"): {pd.get_dummies: None},\n",
    "                                    'BusinessTravel': {create_ordinal_df: {'ordinal_dict':{\"Non-Travel\" :0, \n",
    "                                                                                            \"Travel_Rarely\":1, \n",
    "                                                                                            \"Travel_Frequently\": 2},\n",
    "                                                                          'tag': None}},\n",
    "                                    ('Attrition', 'Gender', 'OverTime') : {convert_boolean_df: \n",
    "                                                                           {'boolean_names_and_values':\n",
    "                                                                            {\"Attrition\": [\"Yes\", \"No\"],\n",
    "                                                                            \"Gender\": [\"Male\", \"Female\"],\n",
    "                                                                            \"OverTime\": [\"Yes\", \"No\"]}, \n",
    "                                                                            'tag' : None}},\n",
    "                                    ('Age', 'DistanceFromHome', \"EnvironmentSatisfaction\",\n",
    "                                    'JobInvolvement', 'JobSatisfaction', \"MonthlyIncome\",\n",
    "                                    'NumCompaniesWorked', 'PercentSalaryHike', \"PerformanceRating\",\n",
    "                                    'RelationshipSatisfaction', 'TotalWorkingYears',\n",
    "                                    'TrainingTimesLastYear', 'WorkLifeBalance', 'YearsAtCompany',\n",
    "                                    'YearsInCurrentRole', 'YearsSinceLastPromotion',\n",
    "                                    'YearsWithCurrManager') : {normalize_values: {'tag': None}},\n",
    "                                    'MonthlyRate': {wmp_linear_transformation: {'method': boxcox},\n",
    "                                                    normalize_values: {'tag': None}},\n",
    "                               })\n",
    "                            \n",
    "                           }"
   ]
  },
  {
   "cell_type": "markdown",
   "metadata": {},
   "source": [
    "## Splitting"
   ]
  },
  {
   "cell_type": "code",
   "execution_count": 5,
   "metadata": {},
   "outputs": [],
   "source": [
    "from sklearn.model_selection import *\n",
    "\n",
    "splitting = DagLayer({'split': {auto_train_test_split  : {'target': \"Attrition\",\n",
    "                                                                        'test_ratio': 0.2,\n",
    "                                                                         'random_state': 42}}})"
   ]
  },
  {
   "cell_type": "markdown",
   "metadata": {},
   "source": [
    "## Modeling"
   ]
  },
  {
   "cell_type": "code",
   "execution_count": 6,
   "metadata": {},
   "outputs": [],
   "source": [
    "from sklearn.linear_model import LogisticRegression\n",
    "from sklearn.naive_bayes import GaussianNB\n",
    "from sklearn.ensemble import RandomForestClassifier\n",
    "from sklearn.neighbors import KNeighborsClassifier\n",
    "from sklearn.svm import SVC\n",
    "from sklearn.neural_network import MLPClassifier\n",
    "\n",
    "modeling = {'metrics': DagLayer({'LOG': {LogisticRegression: None}, \n",
    "                               'GNB': {GaussianNB: None},\n",
    "                               'RF':{RandomForestClassifier: {'n_estimators': 10}},\n",
    "                               'MLP': {MLPClassifier: {'activation': 'tanh'}},\n",
    "                               'SVM': {SVC: {'kernel': 'linear'}},\n",
    "                               'KNN': {KNeighborsClassifier: {'n_neighbors':3 }}})}"
   ]
  },
  {
   "cell_type": "markdown",
   "metadata": {},
   "source": [
    "## Evaluation (STILL IN EXPERIMENTAL MODE)\n",
    "\n",
    "This piece is not finished yet, but will look something like this"
   ]
  },
  {
   "cell_type": "code",
   "execution_count": 7,
   "metadata": {},
   "outputs": [],
   "source": [
    "#Expects predictions\n",
    "evaluation = {'metrics' : DagLayer({'acc': {accuracy_score: None}, \n",
    "                                    'f1': {f1_score: None}, \n",
    "                                    'precision': {precision_score: None},\n",
    "                                    'conf_matrix': {confusion_matrix: None}, \n",
    "                                    'class_report': {classification_report: None},\n",
    "                                    'recall': {recall_score :None}})}"
   ]
  },
  {
   "cell_type": "markdown",
   "metadata": {},
   "source": [
    "## Consolidate all Configurations"
   ]
  },
  {
   "cell_type": "code",
   "execution_count": 8,
   "metadata": {},
   "outputs": [],
   "source": [
    "from wmp_ml.static.eda import *\n",
    "\n",
    "kwargs = \\\n",
    "{   \n",
    "    'modeling': modeling,\n",
    " \n",
    "    'data_sources': data_sources,\n",
    "\n",
    "    'splitting': splitting,\n",
    " \n",
    "    'preprocessing': preprocessing,\n",
    "    \n",
    "    'feature_engineering': feature_engineering1\n",
    " \n",
    "    #'evaluation' : evaluation\n",
    "}"
   ]
  },
  {
   "cell_type": "markdown",
   "metadata": {},
   "source": [
    "# Generate as Code"
   ]
  },
  {
   "cell_type": "code",
   "execution_count": 9,
   "metadata": {},
   "outputs": [],
   "source": [
    "from wmp_ml.dag.generator import DagGenerator\n",
    "from datetime import datetime"
   ]
  },
  {
   "cell_type": "code",
   "execution_count": 10,
   "metadata": {},
   "outputs": [],
   "source": [
    "dag_args = { \n",
    "                'dag_name': \"WMP_ML_test_creation_full\",\n",
    "                'dag':      {\n",
    "                                'owner': 'Sam Showalter',\n",
    "                                'email': ['sshowalter@wmp.com'],\n",
    "                                'op_args':{},\n",
    "                                'op_kwargs': {},\n",
    "                                'params': {}\n",
    "                            },\n",
    "                'config' : kwargs\n",
    "}"
   ]
  },
  {
   "cell_type": "markdown",
   "metadata": {},
   "source": [
    "## Run the DAG Generator with your arguments"
   ]
  },
  {
   "cell_type": "code",
   "execution_count": 11,
   "metadata": {},
   "outputs": [
    {
     "name": "stdout",
     "output_type": "stream",
     "text": [
      "{'models': <wmp_ml.dag.layers.DagLayer object at 0x7fa60c45b278>, 'data_sources': <wmp_ml.dag.layers.DagLayer object at 0x7fa6497950f0>, 'splitting': <wmp_ml.dag.layers.DagLayer object at 0x7fa60c42d940>, 'cleansing_10': <wmp_ml.dag.layers.DagLayer object at 0x7fa616b549b0>, 'cleansing_11': <wmp_ml.dag.layers.DagLayer object at 0x7fa616b43518>, 'transformations': <wmp_ml.dag.layers.DagLayer object at 0x7fa60c45b7f0>}\n"
     ]
    },
    {
     "ename": "IndexError",
     "evalue": "list index out of range",
     "output_type": "error",
     "traceback": [
      "\u001b[0;31m---------------------------------------------------------------------------\u001b[0m",
      "\u001b[0;31mIndexError\u001b[0m                                Traceback (most recent call last)",
      "\u001b[0;32m<ipython-input-11-40bcfeede5ba>\u001b[0m in \u001b[0;36m<module>\u001b[0;34m\u001b[0m\n\u001b[1;32m      1\u001b[0m \u001b[0mdg\u001b[0m \u001b[0;34m=\u001b[0m \u001b[0mDagGenerator\u001b[0m\u001b[0;34m(\u001b[0m\u001b[0mdag_args\u001b[0m\u001b[0;34m)\u001b[0m\u001b[0;34m\u001b[0m\u001b[0;34m\u001b[0m\u001b[0m\n\u001b[0;32m----> 2\u001b[0;31m \u001b[0mdg\u001b[0m\u001b[0;34m.\u001b[0m\u001b[0mgenerate_file\u001b[0m\u001b[0;34m(\u001b[0m\u001b[0;34m)\u001b[0m\u001b[0;34m\u001b[0m\u001b[0;34m\u001b[0m\u001b[0m\n\u001b[0m",
      "\u001b[0;32m~/repos/ML-Airflow/wmp_ml/dag/generator.py\u001b[0m in \u001b[0;36mgenerate_file\u001b[0;34m(self)\u001b[0m\n\u001b[1;32m    154\u001b[0m \u001b[0;34m\u001b[0m\u001b[0m\n\u001b[1;32m    155\u001b[0m                 \u001b[0;31m#Write all layer information to dag output\u001b[0m\u001b[0;34m\u001b[0m\u001b[0;34m\u001b[0m\u001b[0;34m\u001b[0m\u001b[0m\n\u001b[0;32m--> 156\u001b[0;31m                 \u001b[0mself\u001b[0m\u001b[0;34m.\u001b[0m\u001b[0mwrite_layers\u001b[0m\u001b[0;34m(\u001b[0m\u001b[0;34m)\u001b[0m\u001b[0;34m\u001b[0m\u001b[0;34m\u001b[0m\u001b[0m\n\u001b[0m\u001b[1;32m    157\u001b[0m \u001b[0;34m\u001b[0m\u001b[0m\n\u001b[1;32m    158\u001b[0m                 \u001b[0;31m#Connect all of the layers\u001b[0m\u001b[0;34m\u001b[0m\u001b[0;34m\u001b[0m\u001b[0;34m\u001b[0m\u001b[0m\n",
      "\u001b[0;32m~/repos/ML-Airflow/wmp_ml/dag/generator.py\u001b[0m in \u001b[0;36mwrite_layers\u001b[0;34m(self)\u001b[0m\n\u001b[1;32m    302\u001b[0m                         \u001b[0mlayer\u001b[0m\u001b[0;34m.\u001b[0m\u001b[0mwrite_operators\u001b[0m\u001b[0;34m(\u001b[0m\u001b[0;34m)\u001b[0m\u001b[0;34m\u001b[0m\u001b[0;34m\u001b[0m\u001b[0m\n\u001b[1;32m    303\u001b[0m                         \u001b[0mlayer\u001b[0m\u001b[0;34m.\u001b[0m\u001b[0mwrite_op_families\u001b[0m\u001b[0;34m(\u001b[0m\u001b[0;34m)\u001b[0m\u001b[0;34m\u001b[0m\u001b[0;34m\u001b[0m\u001b[0m\n\u001b[0;32m--> 304\u001b[0;31m                         \u001b[0mlayer\u001b[0m\u001b[0;34m.\u001b[0m\u001b[0mwrite_sublayers\u001b[0m\u001b[0;34m(\u001b[0m\u001b[0;34m)\u001b[0m\u001b[0;34m\u001b[0m\u001b[0;34m\u001b[0m\u001b[0m\n\u001b[0m\u001b[1;32m    305\u001b[0m \u001b[0;34m\u001b[0m\u001b[0m\n\u001b[1;32m    306\u001b[0m \u001b[0;34m\u001b[0m\u001b[0m\n",
      "\u001b[0;32m~/repos/ML-Airflow/wmp_ml/dag/layers.py\u001b[0m in \u001b[0;36mwrite_sublayers\u001b[0;34m(self)\u001b[0m\n\u001b[1;32m    238\u001b[0m \t\t\t\t\t\t\t\t\t\t\t\t\t\t\t\t\tself.tag.upper())\n\u001b[1;32m    239\u001b[0m                 \u001b[0;31m#Write sublayer associations\u001b[0m\u001b[0;34m\u001b[0m\u001b[0;34m\u001b[0m\u001b[0;34m\u001b[0m\u001b[0m\n\u001b[0;32m--> 240\u001b[0;31m                 \u001b[0mself\u001b[0m\u001b[0;34m.\u001b[0m\u001b[0mwrite_sublayer_associations\u001b[0m\u001b[0;34m(\u001b[0m\u001b[0;34m)\u001b[0m\u001b[0;34m\u001b[0m\u001b[0;34m\u001b[0m\u001b[0m\n\u001b[0m\u001b[1;32m    241\u001b[0m \u001b[0;34m\u001b[0m\u001b[0m\n\u001b[1;32m    242\u001b[0m \u001b[0;34m\u001b[0m\u001b[0m\n",
      "\u001b[0;32m~/repos/ML-Airflow/wmp_ml/dag/layers.py\u001b[0m in \u001b[0;36mwrite_sublayer_associations\u001b[0;34m(self)\u001b[0m\n\u001b[1;32m    259\u001b[0m \u001b[0;34m\u001b[0m\u001b[0m\n\u001b[1;32m    260\u001b[0m                 \u001b[0;31m#Generate sublayer order\u001b[0m\u001b[0;34m\u001b[0m\u001b[0;34m\u001b[0m\u001b[0;34m\u001b[0m\u001b[0m\n\u001b[0;32m--> 261\u001b[0;31m                 \u001b[0mself\u001b[0m\u001b[0;34m.\u001b[0m\u001b[0mgenerate_sublayer_order\u001b[0m\u001b[0;34m(\u001b[0m\u001b[0;34m)\u001b[0m\u001b[0;34m\u001b[0m\u001b[0;34m\u001b[0m\u001b[0m\n\u001b[0m\u001b[1;32m    262\u001b[0m \u001b[0;34m\u001b[0m\u001b[0m\n\u001b[1;32m    263\u001b[0m                 \u001b[0;31m#Template for generating connected layer\u001b[0m\u001b[0;34m\u001b[0m\u001b[0;34m\u001b[0m\u001b[0;34m\u001b[0m\u001b[0m\n",
      "\u001b[0;32m~/repos/ML-Airflow/wmp_ml/dag/layers.py\u001b[0m in \u001b[0;36mgenerate_sublayer_order\u001b[0;34m(self)\u001b[0m\n\u001b[1;32m    247\u001b[0m                         \u001b[0mself\u001b[0m\u001b[0;34m.\u001b[0m\u001b[0msublayer_order\u001b[0m\u001b[0;34m[\u001b[0m\u001b[0msublayer\u001b[0m\u001b[0;34m.\u001b[0m\u001b[0morder\u001b[0m\u001b[0;34m]\u001b[0m \u001b[0;34m=\u001b[0m \u001b[0msublayer\u001b[0m\u001b[0;34m\u001b[0m\u001b[0;34m\u001b[0m\u001b[0m\n\u001b[1;32m    248\u001b[0m \u001b[0;34m\u001b[0m\u001b[0m\n\u001b[0;32m--> 249\u001b[0;31m                 \u001b[0mself\u001b[0m\u001b[0;34m.\u001b[0m\u001b[0mhead\u001b[0m \u001b[0;34m=\u001b[0m \u001b[0mself\u001b[0m\u001b[0;34m.\u001b[0m\u001b[0msublayer_order\u001b[0m\u001b[0;34m[\u001b[0m\u001b[0;34m-\u001b[0m\u001b[0;36m1\u001b[0m\u001b[0;34m]\u001b[0m\u001b[0;34m.\u001b[0m\u001b[0mrefs\u001b[0m\u001b[0;34m[\u001b[0m\u001b[0;34m'head'\u001b[0m\u001b[0;34m]\u001b[0m\u001b[0;34m\u001b[0m\u001b[0;34m\u001b[0m\u001b[0m\n\u001b[0m\u001b[1;32m    250\u001b[0m                 \u001b[0mself\u001b[0m\u001b[0;34m.\u001b[0m\u001b[0mtail\u001b[0m \u001b[0;34m=\u001b[0m \u001b[0mself\u001b[0m\u001b[0;34m.\u001b[0m\u001b[0msublayer_order\u001b[0m\u001b[0;34m[\u001b[0m\u001b[0;36m0\u001b[0m\u001b[0;34m]\u001b[0m\u001b[0;34m.\u001b[0m\u001b[0mrefs\u001b[0m\u001b[0;34m[\u001b[0m\u001b[0;34m'tail'\u001b[0m\u001b[0;34m]\u001b[0m\u001b[0;34m\u001b[0m\u001b[0;34m\u001b[0m\u001b[0m\n\u001b[1;32m    251\u001b[0m \u001b[0;34m\u001b[0m\u001b[0m\n",
      "\u001b[0;31mIndexError\u001b[0m: list index out of range"
     ]
    }
   ],
   "source": [
    "dg = DagGenerator(dag_args)\n",
    "dg.generate_file()"
   ]
  }
 ],
 "metadata": {
  "kernelspec": {
   "display_name": "Python 3",
   "language": "python",
   "name": "python3"
  },
  "language_info": {
   "codemirror_mode": {
    "name": "ipython",
    "version": 3
   },
   "file_extension": ".py",
   "mimetype": "text/x-python",
   "name": "python",
   "nbconvert_exporter": "python",
   "pygments_lexer": "ipython3",
   "version": "3.6.8"
  }
 },
 "nbformat": 4,
 "nbformat_minor": 2
}
