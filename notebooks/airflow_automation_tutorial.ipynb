{
 "cells": [
  {
   "cell_type": "markdown",
   "metadata": {},
   "source": [
    "# Airflow Machine Learning Automation Tool Tutorial\n",
    "\n",
    "This overview will guide you through how to orchestrate your own machine learning experiments with the airflow_ml tool.\n",
    "\n",
    "Author: Sam Showalter\n",
    "\n",
    "First, let's bring in general imports"
   ]
  },
  {
   "cell_type": "markdown",
   "metadata": {},
   "source": [
    "## Notes\n",
    "\n",
    "A few quick notes on the format of the configuration\n"
   ]
  },
  {
   "cell_type": "code",
   "execution_count": 1,
   "metadata": {},
   "outputs": [
    {
     "name": "stdout",
     "output_type": "stream",
     "text": [
      "/home/sshowalter/repos/ML_Airflow/notebooks\n"
     ]
    }
   ],
   "source": [
    "import pandas as pd\n",
    "import os\n",
    "import sys\n",
    "print(os.getcwd())\n",
    "sys.path.append(\"../\")\n",
    "\n",
    "#Airflow DAG specific imports\n",
    "from ml_airflow.dag.layers import DagLayer"
   ]
  },
  {
   "cell_type": "markdown",
   "metadata": {},
   "source": [
    "## Data Sources"
   ]
  },
  {
   "cell_type": "code",
   "execution_count": 2,
   "metadata": {},
   "outputs": [],
   "source": [
    "import pandas as pd\n",
    "\n",
    "data_sources = [DagLayer({'https://raw.githubusercontent.com/SamShowalter/WMP_training/01_EDA/data/IBM_Employee_Attrition.csv': \n",
    "               {pd.read_csv:None}})]\n"
   ]
  },
  {
   "cell_type": "markdown",
   "metadata": {},
   "source": [
    "## Preprocessing"
   ]
  },
  {
   "cell_type": "code",
   "execution_count": 4,
   "metadata": {},
   "outputs": [
    {
     "ename": "NameError",
     "evalue": "name 'mla_winsorize' is not defined",
     "output_type": "error",
     "traceback": [
      "\u001b[0;31m---------------------------------------------------------------------------\u001b[0m",
      "\u001b[0;31mNameError\u001b[0m                                 Traceback (most recent call last)",
      "\u001b[0;32m<ipython-input-4-f9cb049195c6>\u001b[0m in \u001b[0;36m<module>\u001b[0;34m\u001b[0m\n\u001b[1;32m      3\u001b[0m \u001b[0;34m\u001b[0m\u001b[0m\n\u001b[1;32m      4\u001b[0m preprocessing = { 'cleansing': [   \n\u001b[0;32m----> 5\u001b[0;31m                   DagLayer({'winsorize': {mla_winsorize: {'limits' : [0.05, 0.05],\n\u001b[0m\u001b[1;32m      6\u001b[0m                                                           'col_names': ['MonthlyRate',\n\u001b[1;32m      7\u001b[0m                                                                         \u001b[0;34m'NumCompaniesWorked'\u001b[0m\u001b[0;34m,\u001b[0m\u001b[0;34m\u001b[0m\u001b[0;34m\u001b[0m\u001b[0m\n",
      "\u001b[0;31mNameError\u001b[0m: name 'mla_winsorize' is not defined"
     ]
    }
   ],
   "source": [
    "from sklearn.preprocessing import *\n",
    "from ml_airflow.static.preprocessing import *\n",
    "\n",
    "preprocessing = { 'cleansing': [   \n",
    "                  DagLayer({'winsorize': {mla_winsorize: {'limits' : [0.05, 0.05],\n",
    "                                                          'col_names': ['MonthlyRate',\n",
    "                                                                        'NumCompaniesWorked',\n",
    "                                                                       'PercentSalaryHike']}}}),\n",
    "                  DagLayer({'median_impute': {mla_impute : {'method': \"median\"}}})]\n",
    "                        \n",
    "                }"
   ]
  },
  {
   "cell_type": "markdown",
   "metadata": {},
   "source": [
    "## Feature Engineering"
   ]
  },
  {
   "cell_type": "code",
   "execution_count": null,
   "metadata": {},
   "outputs": [],
   "source": [
    "from sklearn.metrics import *\n",
    "from ml_airflow.static.splitting import *\n",
    "from ml_airflow.static.feature_engineering import *\n",
    "from scipy.stats import *\n",
    "\n",
    "feature_engineering = {\n",
    "                            'transformations': DagLayer({\n",
    "                                    ('Department', 'EducationField', 'JobRole', \"MaritalStatus\"): {pd.get_dummies: None},\n",
    "                                    'BusinessTravel': {create_ordinal_df: {'ordinal_dict':{\"Non-Travel\" :0, \n",
    "                                                                                            \"Travel_Rarely\":1, \n",
    "                                                                                            \"Travel_Frequently\": 2},\n",
    "                                                                          'tag': None}},\n",
    "                                    ('Attrition', 'Gender', 'OverTime') : {convert_boolean_df: \n",
    "                                                                           {'boolean_names_and_values':\n",
    "                                                                            {\"Attrition\": [\"Yes\", \"No\"],\n",
    "                                                                            \"Gender\": [\"Male\", \"Female\"],\n",
    "                                                                            \"OverTime\": [\"Yes\", \"No\"]}, \n",
    "                                                                            'tag' : None}},\n",
    "                                    ('Age', 'DistanceFromHome', \"EnvironmentSatisfaction\",\n",
    "                                    'JobInvolvement', 'JobSatisfaction', \"MonthlyIncome\",\n",
    "                                    'NumCompaniesWorked', 'PercentSalaryHike', \"PerformanceRating\",\n",
    "                                    'RelationshipSatisfaction', 'TotalWorkingYears',\n",
    "                                    'TrainingTimesLastYear', 'WorkLifeBalance', 'YearsAtCompany',\n",
    "                                    'YearsInCurrentRole', 'YearsSinceLastPromotion',\n",
    "                                    'YearsWithCurrManager') : {normalize_values: {'tag': None}},\n",
    "                                    'MonthlyRate': {wmp_linear_transformation: {'method': boxcox},\n",
    "                                                    normalize_values: {'tag': None}},\n",
    "                               })\n",
    "                            \n",
    "                           }"
   ]
  },
  {
   "cell_type": "markdown",
   "metadata": {},
   "source": [
    "## Splitting"
   ]
  },
  {
   "cell_type": "code",
   "execution_count": null,
   "metadata": {},
   "outputs": [],
   "source": [
    "from sklearn.model_selection import *\n",
    "\n",
    "splitting = DagLayer({'split': {auto_train_test_split  : {'target': \"Attrition\",\n",
    "                                                                        'test_ratio': 0.2,\n",
    "                                                                         'random_state': 42}}})"
   ]
  },
  {
   "cell_type": "markdown",
   "metadata": {},
   "source": [
    "## Modeling"
   ]
  },
  {
   "cell_type": "code",
   "execution_count": null,
   "metadata": {},
   "outputs": [],
   "source": [
    "from sklearn.linear_model import LogisticRegression\n",
    "from sklearn.naive_bayes import GaussianNB\n",
    "from sklearn.ensemble import RandomForestClassifier\n",
    "from sklearn.neighbors import KNeighborsClassifier\n",
    "from sklearn.svm import SVC\n",
    "from sklearn.neural_network import MLPClassifier\n",
    "\n",
    "modeling = {'modeling': DagLayer({'LOG': {LogisticRegression: None}, \n",
    "                               'GNB': {GaussianNB: None},\n",
    "                               'RF':{RandomForestClassifier: {'n_estimators': 10}},\n",
    "                               'MLP': {MLPClassifier: {'activation': 'tanh'}},\n",
    "                               'SVM': {SVC: {'kernel': 'linear'}},\n",
    "                               'KNN': {KNeighborsClassifier: {'n_neighbors':3 }}})}"
   ]
  },
  {
   "cell_type": "markdown",
   "metadata": {},
   "source": [
    "## Evaluation (STILL IN EXPERIMENTAL MODE)\n",
    "\n",
    "This piece is not finished yet. It works, but boy it is messy and breaking some design patterns. More to come on this."
   ]
  },
  {
   "cell_type": "code",
   "execution_count": null,
   "metadata": {},
   "outputs": [],
   "source": [
    "#Expects predictions\n",
    "evaluation = {'metrics' : DagLayer({'acc': {accuracy_score: None}, \n",
    "                                    'f1': {f1_score: None}, \n",
    "                                    'precision': {precision_score: None},\n",
    "                                    'conf_matrix': {confusion_matrix: None}, \n",
    "                                    'class_report': {classification_report: None},\n",
    "                                    'recall': {recall_score :None}})}"
   ]
  },
  {
   "cell_type": "markdown",
   "metadata": {},
   "source": [
    "## Consolidate all Configurations"
   ]
  },
  {
   "cell_type": "code",
   "execution_count": null,
   "metadata": {},
   "outputs": [],
   "source": [
    "kwargs = \\\n",
    "{   \n",
    "    'modeling': modeling,\n",
    " \n",
    "    'data_sources': data_sources,\n",
    "\n",
    "    'splitting': splitting,\n",
    " \n",
    "    'preprocessing': preprocessing,\n",
    "    \n",
    "    'feature_engineering': feature_engineering,\n",
    " \n",
    "    'evaluation' : evaluation\n",
    "}"
   ]
  },
  {
   "cell_type": "markdown",
   "metadata": {},
   "source": [
    "# Generate as Code"
   ]
  },
  {
   "cell_type": "code",
   "execution_count": null,
   "metadata": {},
   "outputs": [],
   "source": [
    "from ml_airflow.dag.generator import DagGenerator\n",
    "from datetime import datetime"
   ]
  },
  {
   "cell_type": "code",
   "execution_count": null,
   "metadata": {},
   "outputs": [],
   "source": [
    "dag_args = { \n",
    "                'dag_name': \"WMP_ML_test_creation_full\",\n",
    "                'dag':      {\n",
    "                                'owner': 'Sam Showalter',\n",
    "                                'email': ['sshowalter@wmp.com'],\n",
    "                                'op_args':{},\n",
    "                                'op_kwargs': {},\n",
    "                                'params': {}\n",
    "                            },\n",
    "                'config' : kwargs\n",
    "}"
   ]
  },
  {
   "cell_type": "markdown",
   "metadata": {},
   "source": [
    "## Run the DAG Generator with your arguments"
   ]
  },
  {
   "cell_type": "code",
   "execution_count": null,
   "metadata": {},
   "outputs": [],
   "source": [
    "dg = DagGenerator(dag_args)\n",
    "dg.generate_file()"
   ]
  }
 ],
 "metadata": {
  "kernelspec": {
   "display_name": "Python 3",
   "language": "python",
   "name": "python3"
  },
  "language_info": {
   "codemirror_mode": {
    "name": "ipython",
    "version": 3
   },
   "file_extension": ".py",
   "mimetype": "text/x-python",
   "name": "python",
   "nbconvert_exporter": "python",
   "pygments_lexer": "ipython3",
   "version": "3.6.8"
  }
 },
 "nbformat": 4,
 "nbformat_minor": 2
}
